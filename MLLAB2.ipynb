{
  "nbformat": 4,
  "nbformat_minor": 0,
  "metadata": {
    "colab": {
      "provenance": [],
      "mount_file_id": "1QaR11ijaTgpi-y4JRu-3rrNuiTeBKPEi",
      "authorship_tag": "ABX9TyNbvvYTEWbSmUWfhU/r9eoW",
      "include_colab_link": true
    },
    "kernelspec": {
      "name": "python3",
      "display_name": "Python 3"
    },
    "language_info": {
      "name": "python"
    }
  },
  "cells": [
    {
      "cell_type": "markdown",
      "metadata": {
        "id": "view-in-github",
        "colab_type": "text"
      },
      "source": [
        "<a href=\"https://colab.research.google.com/github/srujannayak32/MLLAB189/blob/main/MLLAB2.ipynb\" target=\"_parent\"><img src=\"https://colab.research.google.com/assets/colab-badge.svg\" alt=\"Open In Colab\"/></a>"
      ]
    },
    {
      "cell_type": "code",
      "execution_count": 1,
      "metadata": {
        "colab": {
          "base_uri": "https://localhost:8080/"
        },
        "id": "RasD0Pl35K5G",
        "outputId": "1d8aca1b-e71d-4948-c9dc-7db80670425d"
      },
      "outputs": [
        {
          "output_type": "stream",
          "name": "stdout",
          "text": [
            "Drive already mounted at /content/drive; to attempt to forcibly remount, call drive.mount(\"/content/drive\", force_remount=True).\n"
          ]
        }
      ],
      "source": [
        "from google.colab import drive\n",
        "drive.mount('/content/drive')"
      ]
    },
    {
      "cell_type": "code",
      "source": [
        "import numpy as np\n",
        "import pandas as pd\n",
        "import matplotlib.pyplot as plt\n",
        "import seaborn as sns"
      ],
      "metadata": {
        "id": "VuuzpPSd7c8w"
      },
      "execution_count": 3,
      "outputs": []
    },
    {
      "cell_type": "code",
      "source": [
        "df = pd.read_csv(\"/content/drive/MyDrive/MLLAB DATASETS/titanic_train.csv\")\n",
        "df.head()\n",
        "print(\"Shape:\", df.shape)\n",
        "print(\"Data Types: \")\n",
        "print(df.dtypes)"
      ],
      "metadata": {
        "colab": {
          "base_uri": "https://localhost:8080/"
        },
        "id": "0BET0kzo5yW-",
        "outputId": "0f401c59-0e44-43c2-b7e4-df69964f1408"
      },
      "execution_count": 5,
      "outputs": [
        {
          "output_type": "stream",
          "name": "stdout",
          "text": [
            "Shape: (891, 12)\n",
            "Data Types: \n",
            "PassengerId      int64\n",
            "Survived         int64\n",
            "Pclass           int64\n",
            "Name            object\n",
            "Sex             object\n",
            "Age            float64\n",
            "SibSp            int64\n",
            "Parch            int64\n",
            "Ticket          object\n",
            "Fare           float64\n",
            "Cabin           object\n",
            "Embarked        object\n",
            "dtype: object\n"
          ]
        }
      ]
    },
    {
      "cell_type": "code",
      "source": [
        "df.isna().sum()"
      ],
      "metadata": {
        "colab": {
          "base_uri": "https://localhost:8080/",
          "height": 460
        },
        "id": "Gp1eTiw27_MX",
        "outputId": "27230d86-3ff2-4594-9c9d-8d89be005195"
      },
      "execution_count": 6,
      "outputs": [
        {
          "output_type": "execute_result",
          "data": {
            "text/plain": [
              "PassengerId      0\n",
              "Survived         0\n",
              "Pclass           0\n",
              "Name             0\n",
              "Sex              0\n",
              "Age            177\n",
              "SibSp            0\n",
              "Parch            0\n",
              "Ticket           0\n",
              "Fare             0\n",
              "Cabin          687\n",
              "Embarked         2\n",
              "dtype: int64"
            ],
            "text/html": [
              "<div>\n",
              "<style scoped>\n",
              "    .dataframe tbody tr th:only-of-type {\n",
              "        vertical-align: middle;\n",
              "    }\n",
              "\n",
              "    .dataframe tbody tr th {\n",
              "        vertical-align: top;\n",
              "    }\n",
              "\n",
              "    .dataframe thead th {\n",
              "        text-align: right;\n",
              "    }\n",
              "</style>\n",
              "<table border=\"1\" class=\"dataframe\">\n",
              "  <thead>\n",
              "    <tr style=\"text-align: right;\">\n",
              "      <th></th>\n",
              "      <th>0</th>\n",
              "    </tr>\n",
              "  </thead>\n",
              "  <tbody>\n",
              "    <tr>\n",
              "      <th>PassengerId</th>\n",
              "      <td>0</td>\n",
              "    </tr>\n",
              "    <tr>\n",
              "      <th>Survived</th>\n",
              "      <td>0</td>\n",
              "    </tr>\n",
              "    <tr>\n",
              "      <th>Pclass</th>\n",
              "      <td>0</td>\n",
              "    </tr>\n",
              "    <tr>\n",
              "      <th>Name</th>\n",
              "      <td>0</td>\n",
              "    </tr>\n",
              "    <tr>\n",
              "      <th>Sex</th>\n",
              "      <td>0</td>\n",
              "    </tr>\n",
              "    <tr>\n",
              "      <th>Age</th>\n",
              "      <td>177</td>\n",
              "    </tr>\n",
              "    <tr>\n",
              "      <th>SibSp</th>\n",
              "      <td>0</td>\n",
              "    </tr>\n",
              "    <tr>\n",
              "      <th>Parch</th>\n",
              "      <td>0</td>\n",
              "    </tr>\n",
              "    <tr>\n",
              "      <th>Ticket</th>\n",
              "      <td>0</td>\n",
              "    </tr>\n",
              "    <tr>\n",
              "      <th>Fare</th>\n",
              "      <td>0</td>\n",
              "    </tr>\n",
              "    <tr>\n",
              "      <th>Cabin</th>\n",
              "      <td>687</td>\n",
              "    </tr>\n",
              "    <tr>\n",
              "      <th>Embarked</th>\n",
              "      <td>2</td>\n",
              "    </tr>\n",
              "  </tbody>\n",
              "</table>\n",
              "</div><br><label><b>dtype:</b> int64</label>"
            ]
          },
          "metadata": {},
          "execution_count": 6
        }
      ]
    },
    {
      "cell_type": "markdown",
      "source": [
        "FILTER METHODS\n"
      ],
      "metadata": {
        "id": "5qhwGEXA8IG_"
      }
    },
    {
      "cell_type": "code",
      "source": [
        "# Select only numerical columns\n",
        "numerical_df = df.select_dtypes(include=np.number)\n",
        "\n",
        "# Find constant features in numerical columns\n",
        "constant_features = [\n",
        "    features for features in numerical_df.columns if numerical_df[features].std() == 0\n",
        "]\n",
        "print(f\"Number of constant features: {len(constant_features)}\")\n",
        "print(f\"Constant features: {constant_features}\")"
      ],
      "metadata": {
        "colab": {
          "base_uri": "https://localhost:8080/"
        },
        "id": "ws-N1ttc8BPW",
        "outputId": "3caa2b70-67a5-4cd7-fe8e-4373105bbae3"
      },
      "execution_count": 9,
      "outputs": [
        {
          "output_type": "stream",
          "name": "stdout",
          "text": [
            "Number of constant features: 0\n",
            "Constant features: []\n"
          ]
        }
      ]
    },
    {
      "cell_type": "code",
      "source": [
        "quasi_constant_features = []\n",
        "for feature in df.columns:\n",
        "    predominant = (df[feature].value_counts() / len(df)).sort_values(ascending=False).values[0]\n",
        "    if predominant > 0.9:\n",
        "        quasi_constant_features.append(feature)\n",
        "\n",
        "print(f\"Number of Quasi Constant Features: {len(quasi_constant_features)}\")"
      ],
      "metadata": {
        "colab": {
          "base_uri": "https://localhost:8080/"
        },
        "id": "-CaOJZW08bO_",
        "outputId": "4e931010-62aa-4107-ece3-79f96cb606c3"
      },
      "execution_count": 10,
      "outputs": [
        {
          "output_type": "stream",
          "name": "stdout",
          "text": [
            "Number of Quasi Constant Features: 0\n"
          ]
        }
      ]
    },
    {
      "cell_type": "code",
      "source": [
        "duplicated_feat = []\n",
        "\n",
        "for i in range(len(df.columns)):\n",
        "    col_1 = df.columns[i]\n",
        "    for col_2 in df.columns[i + 1:]:\n",
        "        if df[col_1].equals(df[col_2]):\n",
        "            duplicated_feat.append(col_2)\n",
        "\n",
        "print(\"Duplicated features:\", duplicated_feat)"
      ],
      "metadata": {
        "colab": {
          "base_uri": "https://localhost:8080/"
        },
        "id": "apVcTAcf86P_",
        "outputId": "767ae6f1-f003-4f4d-de2f-5017c710a2bc"
      },
      "execution_count": 11,
      "outputs": [
        {
          "output_type": "stream",
          "name": "stdout",
          "text": [
            "Duplicated features: []\n"
          ]
        }
      ]
    },
    {
      "cell_type": "markdown",
      "source": [
        "STASTICAL METHODS\n"
      ],
      "metadata": {
        "id": "5-locpbo88Tn"
      }
    },
    {
      "cell_type": "code",
      "source": [
        "# Select only numerical columns for correlation calculation\n",
        "numerical_df = df.select_dtypes(include=np.number)\n",
        "\n",
        "# Calculate the correlation matrix for numerical columns\n",
        "corrmat = numerical_df.corr()\n",
        "\n",
        "# Generate the heatmap\n",
        "sns.heatmap(corrmat)"
      ],
      "metadata": {
        "colab": {
          "base_uri": "https://localhost:8080/",
          "height": 522
        },
        "id": "dbQMWq5k8_Bv",
        "outputId": "52feeb98-1570-4729-f8be-fb6166cc6fc5"
      },
      "execution_count": 13,
      "outputs": [
        {
          "output_type": "execute_result",
          "data": {
            "text/plain": [
              "<Axes: >"
            ]
          },
          "metadata": {},
          "execution_count": 13
        },
        {
          "output_type": "display_data",
          "data": {
            "text/plain": [
              "<Figure size 640x480 with 2 Axes>"
            ],
            "image/png": "[encoded data removed]"
          },
          "metadata": {}
        }
      ]
    },
    {
      "cell_type": "code",
      "source": [
        "def correlation(dataset, threshold):\n",
        "    col_corr = set()\n",
        "    # Select only numerical columns for correlation calculation\n",
        "    numerical_dataset = dataset.select_dtypes(include=np.number)\n",
        "    matrix = numerical_dataset.corr()\n",
        "    for i in range(len(matrix.columns)):\n",
        "        for j in range(i):\n",
        "            if abs(matrix.iloc[i, j]) > threshold:\n",
        "                colname = matrix.columns[i]\n",
        "                col_corr.add(colname)\n",
        "    return col_corr\n",
        "\n",
        "corr_features = correlation(df, 0.9)\n",
        "correlated = set(corr_features)\n",
        "correlated"
      ],
      "metadata": {
        "colab": {
          "base_uri": "https://localhost:8080/"
        },
        "id": "0eIyFOxE9D7f",
        "outputId": "b76607c1-9923-4502-dfeb-8ca5b17ddb2b"
      },
      "execution_count": 15,
      "outputs": [
        {
          "output_type": "execute_result",
          "data": {
            "text/plain": [
              "set()"
            ]
          },
          "metadata": {},
          "execution_count": 15
        }
      ]
    },
    {
      "cell_type": "code",
      "source": [
        "from sklearn.feature_selection import mutual_info_classif\n",
        "\n",
        "X = df.drop(labels='Survived', axis=1)\n",
        "y = df['Survived']\n",
        "\n",
        "# Select only numerical columns from X\n",
        "X_numerical = X.select_dtypes(include=np.number)\n",
        "\n",
        "# Fill missing values with 0 (only for numerical columns)\n",
        "mi = mutual_info_classif(X_numerical.fillna(0), y)\n",
        "mi = pd.Series(mi)\n",
        "mi.index = X_numerical.columns\n",
        "mi.sort_values(ascending=False).plot.bar(figsize=(20, 8))\n",
        "plt.show()"
      ],
      "metadata": {
        "colab": {
          "base_uri": "https://localhost:8080/",
          "height": 443
        },
        "id": "c_K4cUNH9JAP",
        "outputId": "bacff65c-aa89-4a10-c206-a0e17e7f0645"
      },
      "execution_count": 17,
      "outputs": [
        {
          "output_type": "display_data",
          "data": {
            "text/plain": [
              "<Figure size 2000x800 with 1 Axes>"
            ],
            "image/png": "[encoded data removed]"
          },
          "metadata": {}
        }
      ]
    },
    {
      "cell_type": "code",
      "source": [
        "selected_features = mi[mi > 0.0001].index.tolist()\n",
        "print(f\"Number of Selected Features: {len(selected_features)}\")\n",
        "print(f\"Selected Features: {(selected_features)}\")\n",
        "X = X[selected_features]\n",
        "print(X)"
      ],
      "metadata": {
        "colab": {
          "base_uri": "https://localhost:8080/"
        },
        "id": "LIKxthbr9O3_",
        "outputId": "e5373443-d1f8-45b8-f6d9-6bb92a3b6796"
      },
      "execution_count": 18,
      "outputs": [
        {
          "output_type": "stream",
          "name": "stdout",
          "text": [
            "Number of Selected Features: 4\n",
            "Selected Features: ['PassengerId', 'Pclass', 'SibSp', 'Fare']\n",
            "     PassengerId  Pclass  SibSp     Fare\n",
            "0              1       3      1   7.2500\n",
            "1              2       1      1  71.2833\n",
            "2              3       3      0   7.9250\n",
            "3              4       1      1  53.1000\n",
            "4              5       3      0   8.0500\n",
            "..           ...     ...    ...      ...\n",
            "886          887       2      0  13.0000\n",
            "887          888       1      0  30.0000\n",
            "888          889       3      1  23.4500\n",
            "889          890       1      0  30.0000\n",
            "890          891       3      0   7.7500\n",
            "\n",
            "[891 rows x 4 columns]\n"
          ]
        }
      ]
    },
    {
      "cell_type": "markdown",
      "source": [
        "Statistical Methods - Chi2 test"
      ],
      "metadata": {
        "id": "gWL4m2_d9RPf"
      }
    },
    {
      "cell_type": "code",
      "source": [
        "from sklearn.feature_selection import chi2\n",
        "f_score = chi2(X, y)\n",
        "f_score\n",
        "p_values = pd.Series(f_score[1])\n",
        "p_values.index = X.columns\n",
        "p_values.sort_values(ascending = True)"
      ],
      "metadata": {
        "colab": {
          "base_uri": "https://localhost:8080/",
          "height": 210
        },
        "id": "I7yqTABK9RGX",
        "outputId": "63fd1cdf-d8c3-4a76-db15-140cc09d0b1d"
      },
      "execution_count": 19,
      "outputs": [
        {
          "output_type": "execute_result",
          "data": {
            "text/plain": [
              "Fare           0.000000e+00\n",
              "Pclass         2.753786e-08\n",
              "PassengerId    6.873667e-02\n",
              "SibSp          1.080942e-01\n",
              "dtype: float64"
            ],
            "text/html": [
              "<div>\n",
              "<style scoped>\n",
              "    .dataframe tbody tr th:only-of-type {\n",
              "        vertical-align: middle;\n",
              "    }\n",
              "\n",
              "    .dataframe tbody tr th {\n",
              "        vertical-align: top;\n",
              "    }\n",
              "\n",
              "    .dataframe thead th {\n",
              "        text-align: right;\n",
              "    }\n",
              "</style>\n",
              "<table border=\"1\" class=\"dataframe\">\n",
              "  <thead>\n",
              "    <tr style=\"text-align: right;\">\n",
              "      <th></th>\n",
              "      <th>0</th>\n",
              "    </tr>\n",
              "  </thead>\n",
              "  <tbody>\n",
              "    <tr>\n",
              "      <th>Fare</th>\n",
              "      <td>0.000000e+00</td>\n",
              "    </tr>\n",
              "    <tr>\n",
              "      <th>Pclass</th>\n",
              "      <td>2.753786e-08</td>\n",
              "    </tr>\n",
              "    <tr>\n",
              "      <th>PassengerId</th>\n",
              "      <td>6.873667e-02</td>\n",
              "    </tr>\n",
              "    <tr>\n",
              "      <th>SibSp</th>\n",
              "      <td>1.080942e-01</td>\n",
              "    </tr>\n",
              "  </tbody>\n",
              "</table>\n",
              "</div><br><label><b>dtype:</b> float64</label>"
            ]
          },
          "metadata": {},
          "execution_count": 19
        }
      ]
    },
    {
      "cell_type": "code",
      "source": [
        "p_values[p_values < 0.05].sort_values(ascending=True)"
      ],
      "metadata": {
        "colab": {
          "base_uri": "https://localhost:8080/",
          "height": 147
        },
        "id": "Xsu_Nf9F9W_X",
        "outputId": "ae2ce15e-77ac-48f0-814e-5f2a99e4a45e"
      },
      "execution_count": 20,
      "outputs": [
        {
          "output_type": "execute_result",
          "data": {
            "text/plain": [
              "Fare      0.000000e+00\n",
              "Pclass    2.753786e-08\n",
              "dtype: float64"
            ],
            "text/html": [
              "<div>\n",
              "<style scoped>\n",
              "    .dataframe tbody tr th:only-of-type {\n",
              "        vertical-align: middle;\n",
              "    }\n",
              "\n",
              "    .dataframe tbody tr th {\n",
              "        vertical-align: top;\n",
              "    }\n",
              "\n",
              "    .dataframe thead th {\n",
              "        text-align: right;\n",
              "    }\n",
              "</style>\n",
              "<table border=\"1\" class=\"dataframe\">\n",
              "  <thead>\n",
              "    <tr style=\"text-align: right;\">\n",
              "      <th></th>\n",
              "      <th>0</th>\n",
              "    </tr>\n",
              "  </thead>\n",
              "  <tbody>\n",
              "    <tr>\n",
              "      <th>Fare</th>\n",
              "      <td>0.000000e+00</td>\n",
              "    </tr>\n",
              "    <tr>\n",
              "      <th>Pclass</th>\n",
              "      <td>2.753786e-08</td>\n",
              "    </tr>\n",
              "  </tbody>\n",
              "</table>\n",
              "</div><br><label><b>dtype:</b> float64</label>"
            ]
          },
          "metadata": {},
          "execution_count": 20
        }
      ]
    },
    {
      "cell_type": "markdown",
      "source": [
        "Statistical Methods - ANOVA"
      ],
      "metadata": {
        "id": "NFMkw3939Zm3"
      }
    },
    {
      "cell_type": "code",
      "source": [
        "from sklearn.feature_selection import f_classif\n",
        "f_score, p_value = f_classif(X, y)\n",
        "print(\"F-scores:\", f_score)\n",
        "print(\"p-values:\", p_value)\n",
        "p_values = pd.Series(p_value)\n",
        "p_values.index = X.columns\n",
        "# p_values.sort_values(ascending=True).plot.bar(figsize=(20, 6), rot=45)\n",
        "plt.ylabel(\"p-values\")\n",
        "plt.title(\"Anova\")\n",
        "p_values.sort_values(ascending=True)"
      ],
      "metadata": {
        "colab": {
          "base_uri": "https://localhost:8080/",
          "height": 679
        },
        "id": "hXMTEPsW9aI3",
        "outputId": "86dba046-368a-43c1-acd7-d79ed62f7381"
      },
      "execution_count": 21,
      "outputs": [
        {
          "output_type": "stream",
          "name": "stdout",
          "text": [
            "F-scores: [2.22848123e-02 1.15031272e+02 1.11057220e+00 6.30307642e+01]\n",
            "p-values: [8.81365777e-01 2.53704739e-25 2.92243929e-01 6.12018934e-15]\n"
          ]
        },
        {
          "output_type": "execute_result",
          "data": {
            "text/plain": [
              "Pclass         2.537047e-25\n",
              "Fare           6.120189e-15\n",
              "SibSp          2.922439e-01\n",
              "PassengerId    8.813658e-01\n",
              "dtype: float64"
            ],
            "text/html": [
              "<div>\n",
              "<style scoped>\n",
              "    .dataframe tbody tr th:only-of-type {\n",
              "        vertical-align: middle;\n",
              "    }\n",
              "\n",
              "    .dataframe tbody tr th {\n",
              "        vertical-align: top;\n",
              "    }\n",
              "\n",
              "    .dataframe thead th {\n",
              "        text-align: right;\n",
              "    }\n",
              "</style>\n",
              "<table border=\"1\" class=\"dataframe\">\n",
              "  <thead>\n",
              "    <tr style=\"text-align: right;\">\n",
              "      <th></th>\n",
              "      <th>0</th>\n",
              "    </tr>\n",
              "  </thead>\n",
              "  <tbody>\n",
              "    <tr>\n",
              "      <th>Pclass</th>\n",
              "      <td>2.537047e-25</td>\n",
              "    </tr>\n",
              "    <tr>\n",
              "      <th>Fare</th>\n",
              "      <td>6.120189e-15</td>\n",
              "    </tr>\n",
              "    <tr>\n",
              "      <th>SibSp</th>\n",
              "      <td>2.922439e-01</td>\n",
              "    </tr>\n",
              "    <tr>\n",
              "      <th>PassengerId</th>\n",
              "      <td>8.813658e-01</td>\n",
              "    </tr>\n",
              "  </tbody>\n",
              "</table>\n",
              "</div><br><label><b>dtype:</b> float64</label>"
            ]
          },
          "metadata": {},
          "execution_count": 21
        },
        {
          "output_type": "display_data",
          "data": {
            "text/plain": [
              "<Figure size 640x480 with 1 Axes>"
            ],
            "image/png": "[encoded data removed]"
          },
          "metadata": {}
        }
      ]
    },
    {
      "cell_type": "code",
      "source": [
        "p_values[p_values > 0.05]"
      ],
      "metadata": {
        "colab": {
          "base_uri": "https://localhost:8080/",
          "height": 147
        },
        "id": "x89PuQ2_9clf",
        "outputId": "fa161dbe-2b9b-4ad8-cd72-f08d894b31c1"
      },
      "execution_count": 22,
      "outputs": [
        {
          "output_type": "execute_result",
          "data": {
            "text/plain": [
              "PassengerId    0.881366\n",
              "SibSp          0.292244\n",
              "dtype: float64"
            ],
            "text/html": [
              "<div>\n",
              "<style scoped>\n",
              "    .dataframe tbody tr th:only-of-type {\n",
              "        vertical-align: middle;\n",
              "    }\n",
              "\n",
              "    .dataframe tbody tr th {\n",
              "        vertical-align: top;\n",
              "    }\n",
              "\n",
              "    .dataframe thead th {\n",
              "        text-align: right;\n",
              "    }\n",
              "</style>\n",
              "<table border=\"1\" class=\"dataframe\">\n",
              "  <thead>\n",
              "    <tr style=\"text-align: right;\">\n",
              "      <th></th>\n",
              "      <th>0</th>\n",
              "    </tr>\n",
              "  </thead>\n",
              "  <tbody>\n",
              "    <tr>\n",
              "      <th>PassengerId</th>\n",
              "      <td>0.881366</td>\n",
              "    </tr>\n",
              "    <tr>\n",
              "      <th>SibSp</th>\n",
              "      <td>0.292244</td>\n",
              "    </tr>\n",
              "  </tbody>\n",
              "</table>\n",
              "</div><br><label><b>dtype:</b> float64</label>"
            ]
          },
          "metadata": {},
          "execution_count": 22
        }
      ]
    },
    {
      "cell_type": "markdown",
      "source": [
        "Statistical Methods - MSE"
      ],
      "metadata": {
        "id": "Afj01vvx9guw"
      }
    },
    {
      "cell_type": "code",
      "source": [
        "from sklearn.tree import DecisionTreeClassifier\n",
        "from sklearn.metrics import roc_auc_score\n",
        "\n",
        "roc_values = []\n",
        "for feature in X.columns:\n",
        "    clf = DecisionTreeClassifier()\n",
        "    clf.fit(X[feature].fillna(0).to_frame(), y)\n",
        "    y_scored = clf.predict_proba(X[feature].fillna(0).to_frame())\n",
        "    roc_values.append(roc_auc_score(y, y_scored[:, 1]))\n",
        "\n",
        "roc_values = pd.Series(roc_values)\n",
        "roc_values.index = X.columns\n",
        "roc_values.sort_values(ascending=False)\n",
        "roc_values[roc_values > 0.5]"
      ],
      "metadata": {
        "colab": {
          "base_uri": "https://localhost:8080/",
          "height": 210
        },
        "id": "erCFxucz9e6P",
        "outputId": "cd916d7c-dc51-44f9-eb6e-b1a61fc694aa"
      },
      "execution_count": 23,
      "outputs": [
        {
          "output_type": "execute_result",
          "data": {
            "text/plain": [
              "PassengerId    1.000000\n",
              "Pclass         0.681417\n",
              "SibSp          0.596539\n",
              "Fare           0.896731\n",
              "dtype: float64"
            ],
            "text/html": [
              "<div>\n",
              "<style scoped>\n",
              "    .dataframe tbody tr th:only-of-type {\n",
              "        vertical-align: middle;\n",
              "    }\n",
              "\n",
              "    .dataframe tbody tr th {\n",
              "        vertical-align: top;\n",
              "    }\n",
              "\n",
              "    .dataframe thead th {\n",
              "        text-align: right;\n",
              "    }\n",
              "</style>\n",
              "<table border=\"1\" class=\"dataframe\">\n",
              "  <thead>\n",
              "    <tr style=\"text-align: right;\">\n",
              "      <th></th>\n",
              "      <th>0</th>\n",
              "    </tr>\n",
              "  </thead>\n",
              "  <tbody>\n",
              "    <tr>\n",
              "      <th>PassengerId</th>\n",
              "      <td>1.000000</td>\n",
              "    </tr>\n",
              "    <tr>\n",
              "      <th>Pclass</th>\n",
              "      <td>0.681417</td>\n",
              "    </tr>\n",
              "    <tr>\n",
              "      <th>SibSp</th>\n",
              "      <td>0.596539</td>\n",
              "    </tr>\n",
              "    <tr>\n",
              "      <th>Fare</th>\n",
              "      <td>0.896731</td>\n",
              "    </tr>\n",
              "  </tbody>\n",
              "</table>\n",
              "</div><br><label><b>dtype:</b> float64</label>"
            ]
          },
          "metadata": {},
          "execution_count": 23
        }
      ]
    },
    {
      "cell_type": "markdown",
      "source": [
        "Wrapper Methods"
      ],
      "metadata": {
        "id": "owXUqJi-9kmA"
      }
    },
    {
      "cell_type": "code",
      "source": [
        "#forward selection\n",
        "from mlxtend.feature_selection import SequentialFeatureSelector as SFS\n",
        "from sklearn.ensemble import  RandomForestClassifier\n",
        "print(X.columns)\n",
        "sfs1 = SFS(\n",
        "    RandomForestClassifier(n_jobs=4),\n",
        "    k_features='best', # Changed from 7 to 'best'\n",
        "    forward=True,\n",
        "    floating=False,\n",
        "    verbose=2,\n",
        "    scoring='roc_auc',\n",
        "    cv=3\n",
        ")\n",
        "sfs1 = sfs1.fit(np.array(X.fillna(0)), y)\n",
        "selected_feature_names = [X.columns[i] for i in sfs1.k_feature_idx_]\n",
        "\n",
        "# Print the best accuracy score, indices, and feature names\n",
        "print('Best accuracy score: %.2f' % sfs1.k_score_)\n",
        "print('Best subset (indices):', sfs1.k_feature_idx_)\n",
        "print('Best subset (corresponding names):', selected_feature_names)"
      ],
      "metadata": {
        "colab": {
          "base_uri": "https://localhost:8080/"
        },
        "id": "uamnSyeO9jDx",
        "outputId": "a2bc6ca4-9a87-4377-b43a-594ab533fad1"
      },
      "execution_count": 25,
      "outputs": [
        {
          "output_type": "stream",
          "name": "stdout",
          "text": [
            "Index(['PassengerId', 'Pclass', 'SibSp', 'Fare'], dtype='object')\n"
          ]
        },
        {
          "output_type": "stream",
          "name": "stderr",
          "text": [
            "[Parallel(n_jobs=1)]: Done   4 out of   4 | elapsed:    4.0s finished\n",
            "\n",
            "[2025-08-22 04:08:53] Features: 1/4 -- score: 0.7212555523599528[Parallel(n_jobs=1)]: Done   3 out of   3 | elapsed:    3.4s finished\n",
            "\n",
            "[2025-08-22 04:08:57] Features: 2/4 -- score: 0.7212156073243218[Parallel(n_jobs=1)]: Done   2 out of   2 | elapsed:    3.2s finished\n",
            "\n",
            "[2025-08-22 04:09:00] Features: 3/4 -- score: 0.7012830345444668"
          ]
        },
        {
          "output_type": "stream",
          "name": "stdout",
          "text": [
            "Best accuracy score: 0.72\n",
            "Best subset (indices): (3,)\n",
            "Best subset (corresponding names): ['Fare']\n"
          ]
        },
        {
          "output_type": "stream",
          "name": "stderr",
          "text": [
            "[Parallel(n_jobs=1)]: Done   1 out of   1 | elapsed:    1.4s finished\n",
            "\n",
            "[2025-08-22 04:09:01] Features: 4/4 -- score: 0.6930943022401176"
          ]
        }
      ]
    },
    {
      "cell_type": "code",
      "source": [
        "#backward selection\n",
        "from mlxtend.feature_selection import SequentialFeatureSelector as SFS\n",
        "from sklearn.ensemble import  RandomForestClassifier\n",
        "print(X.columns)\n",
        "sfs2 = SFS(\n",
        "    RandomForestClassifier(n_jobs=4),\n",
        "    k_features='best', # Changed from 7 to 'best'\n",
        "    forward=False,\n",
        "    floating=False,\n",
        "    verbose=3,\n",
        "    scoring='accuracy',\n",
        "    cv=3\n",
        ")\n",
        "sfs2 = sfs2.fit(np.array(X.fillna(0)), y)\n",
        "selected_feature_names = [X.columns[i] for i in sfs2.k_feature_idx_]\n",
        "\n",
        "# Print the best accuracy score, indices, and feature names\n",
        "print('Best accuracy score: %.2f' % sfs2.k_score_)\n",
        "print('Best subset (indices):', sfs2.k_feature_idx_)\n",
        "print('Best subset (corresponding names):', selected_feature_names)"
      ],
      "metadata": {
        "colab": {
          "base_uri": "https://localhost:8080/"
        },
        "id": "Oy-RQBP-9xMo",
        "outputId": "f9ee6c0c-67dc-42d5-977a-ca502b4df572"
      },
      "execution_count": 27,
      "outputs": [
        {
          "output_type": "stream",
          "name": "stdout",
          "text": [
            "Index(['PassengerId', 'Pclass', 'SibSp', 'Fare'], dtype='object')\n"
          ]
        },
        {
          "output_type": "stream",
          "name": "stderr",
          "text": [
            "[Parallel(n_jobs=1)]: Done   4 out of   4 | elapsed:    6.5s finished\n",
            "\n",
            "[2025-08-22 04:09:31] Features: 3/1 -- score: 0.6902356902356903[Parallel(n_jobs=1)]: Done   3 out of   3 | elapsed:    3.4s finished\n",
            "\n",
            "[2025-08-22 04:09:34] Features: 2/1 -- score: 0.6902356902356903"
          ]
        },
        {
          "output_type": "stream",
          "name": "stdout",
          "text": [
            "Best accuracy score: 0.69\n",
            "Best subset (indices): (1, 2, 3)\n",
            "Best subset (corresponding names): ['Pclass', 'SibSp', 'Fare']\n"
          ]
        },
        {
          "output_type": "stream",
          "name": "stderr",
          "text": [
            "[Parallel(n_jobs=1)]: Done   2 out of   2 | elapsed:    1.9s finished\n",
            "\n",
            "[2025-08-22 04:09:36] Features: 1/1 -- score: 0.67003367003367"
          ]
        }
      ]
    }
  ]
}