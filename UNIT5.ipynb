{
  "nbformat": 4,
  "nbformat_minor": 0,
  "metadata": {
    "colab": {
      "provenance": [],
      "authorship_tag": "ABX9TyNhhTcnRc9N0i7NRczuLWnX",
      "include_colab_link": true
    },
    "kernelspec": {
      "name": "python3",
      "display_name": "Python 3"
    },
    "language_info": {
      "name": "python"
    }
  },
  "cells": [
    {
      "cell_type": "markdown",
      "metadata": {
        "id": "view-in-github",
        "colab_type": "text"
      },
      "source": [
        "<a href=\"https://colab.research.google.com/github/srujannayak32/MLLAB189/blob/main/UNIT5.ipynb\" target=\"_parent\"><img src=\"https://colab.research.google.com/assets/colab-badge.svg\" alt=\"Open In Colab\"/></a>"
      ]
    },
    {
      "cell_type": "markdown",
      "source": [
        "1.Simple Perceptron (basic code)\n"
      ],
      "metadata": {
        "id": "Z172NQVWEofY"
      }
    },
    {
      "cell_type": "code",
      "execution_count": 1,
      "metadata": {
        "colab": {
          "base_uri": "https://localhost:8080/",
          "height": 0
        },
        "id": "xXH45uTaamb-",
        "outputId": "5d52f364-885d-472d-8907-85b3a1fc09cc"
      },
      "outputs": [
        {
          "output_type": "stream",
          "name": "stdout",
          "text": [
            "Weights: [-0.1  0.1  0.1]\n",
            "Input: [0 0], Predicted: 0\n",
            "Input: [0 1], Predicted: 1\n",
            "Input: [1 0], Predicted: 1\n",
            "Input: [1 1], Predicted: 1\n"
          ]
        }
      ],
      "source": [
        "import numpy as np\n",
        "\n",
        "class SimplePerceptron:\n",
        "    def __init__(self, input_size, lr=0.1, epochs=10):\n",
        "        self.weights = np.zeros(input_size + 1)  # +1 for bias\n",
        "        self.lr = lr\n",
        "        self.epochs = epochs\n",
        "\n",
        "    def activation(self, x):\n",
        "        return 1 if x >= 0 else 0\n",
        "\n",
        "    def predict(self, x):\n",
        "        z = np.dot(x, self.weights[1:]) + self.weights[0]\n",
        "        return self.activation(z)\n",
        "\n",
        "    def train(self, X, y):\n",
        "        for _ in range(self.epochs):\n",
        "            for xi, target in zip(X, y):\n",
        "                y_pred = self.predict(xi)\n",
        "                error = target - y_pred\n",
        "                self.weights[1:] += self.lr * error * xi\n",
        "                self.weights[0] += self.lr * error\n",
        "\n",
        "# Example: OR gate\n",
        "X = np.array([[0,0],[0,1],[1,0],[1,1]])\n",
        "y = np.array([0,1,1,1])\n",
        "\n",
        "perceptron = SimplePerceptron(input_size=2, lr=0.1, epochs=10)\n",
        "perceptron.train(X, y)\n",
        "\n",
        "print(\"Weights:\", perceptron.weights)\n",
        "for xi in X:\n",
        "    print(f\"Input: {xi}, Predicted: {perceptron.predict(xi)}\")"
      ]
    },
    {
      "cell_type": "markdown",
      "source": [
        "2.Perceptron with activation Function with AND, OR (linear data), XOR (non linear data)"
      ],
      "metadata": {
        "id": "d_bjmP_aEgEU"
      }
    },
    {
      "cell_type": "code",
      "source": [
        "import matplotlib.pyplot as plt\n",
        "\n",
        "def perceptron_gate(X, y, lr=0.1, epochs=10):\n",
        "    w = np.zeros(X.shape[1] + 1)\n",
        "    for _ in range(epochs):\n",
        "        for xi, target in zip(X, y):\n",
        "            z = np.dot(xi, w[1:]) + w[0]\n",
        "            pred = 1 if z >= 0 else 0\n",
        "            error = target - pred\n",
        "            w[1:] += lr * error * xi\n",
        "            w[0] += lr * error\n",
        "    return w\n",
        "\n",
        "# AND, OR\n",
        "X_linear = np.array([[0,0],[0,1],[1,0],[1,1]])\n",
        "y_and = np.array([0,0,0,1])\n",
        "y_or = np.array([0,1,1,1])\n",
        "\n",
        "w_and = perceptron_gate(X_linear, y_and)\n",
        "w_or = perceptron_gate(X_linear, y_or)\n",
        "print(\"AND Weights:\", w_and)\n",
        "print(\"OR Weights:\", w_or)\n",
        "\n",
        "# XOR (non-linear) - cannot be solved by single perceptron\n",
        "y_xor = np.array([0,1,1,0])\n",
        "w_xor = perceptron_gate(X_linear, y_xor)\n",
        "print(\"XOR Weights (fails for non-linear):\", w_xor)"
      ],
      "metadata": {
        "colab": {
          "base_uri": "https://localhost:8080/",
          "height": 0
        },
        "id": "6Mv3yDOQa0HD",
        "outputId": "b0a9c550-af90-4258-f60b-587f99666b48"
      },
      "execution_count": 2,
      "outputs": [
        {
          "output_type": "stream",
          "name": "stdout",
          "text": [
            "AND Weights: [-0.2  0.2  0.1]\n",
            "OR Weights: [-0.1  0.1  0.1]\n",
            "XOR Weights (fails for non-linear): [ 0.  -0.1  0. ]\n"
          ]
        }
      ]
    },
    {
      "cell_type": "markdown",
      "source": [
        "3. MLP with single hidden Layer (with various number of neurons)"
      ],
      "metadata": {
        "id": "kmnO7MGHE3ue"
      }
    },
    {
      "cell_type": "code",
      "source": [
        "from sklearn.neural_network import MLPClassifier\n",
        "import numpy as np\n",
        "\n",
        "# Example dataset: XOR\n",
        "X = np.array([[0,0],[0,1],[1,0],[1,1]])\n",
        "y = np.array([0,1,1,0])  # XOR problem (non-linear)\n",
        "\n",
        "# Number of neurons to test\n",
        "neurons_list = [1, 2, 5, 10, 20]\n",
        "\n",
        "for n in neurons_list:\n",
        "    # Create MLP with single hidden layer of n neurons\n",
        "    mlp = MLPClassifier(hidden_layer_sizes=(n,), activation='relu', solver='adam', max_iter=1000, random_state=42)\n",
        "\n",
        "    # Train the model\n",
        "    mlp.fit(X, y)\n",
        "\n",
        "    # Predictions\n",
        "    predictions = mlp.predict(X)\n",
        "\n",
        "    # Output results\n",
        "    print(f\"Hidden Neurons: {n}\")\n",
        "    print(\"Predictions:\", predictions)\n",
        "    print(\"Training Loss:\", round(mlp.loss_, 4))\n",
        "    print(\"Number of Iterations:\", mlp.n_iter_)\n",
        "    print(\"-\"*40)"
      ],
      "metadata": {
        "colab": {
          "base_uri": "https://localhost:8080/",
          "height": 0
        },
        "id": "zbJz0Jsqj2QJ",
        "outputId": "9f6f714f-e82e-4b56-8380-4471aaf18e41"
      },
      "execution_count": 3,
      "outputs": [
        {
          "output_type": "stream",
          "name": "stdout",
          "text": [
            "Hidden Neurons: 1\n",
            "Predictions: [0 1 0 1]\n",
            "Training Loss: 0.7182\n",
            "Number of Iterations: 217\n",
            "----------------------------------------\n",
            "Hidden Neurons: 2\n",
            "Predictions: [1 1 1 1]\n",
            "Training Loss: 0.6953\n",
            "Number of Iterations: 207\n",
            "----------------------------------------\n",
            "Hidden Neurons: 5\n",
            "Predictions: [0 1 0 1]\n",
            "Training Loss: 0.6996\n",
            "Number of Iterations: 12\n",
            "----------------------------------------\n"
          ]
        },
        {
          "output_type": "stream",
          "name": "stderr",
          "text": [
            "/usr/local/lib/python3.12/dist-packages/sklearn/neural_network/_multilayer_perceptron.py:691: ConvergenceWarning: Stochastic Optimizer: Maximum iterations (1000) reached and the optimization hasn't converged yet.\n",
            "  warnings.warn(\n"
          ]
        },
        {
          "output_type": "stream",
          "name": "stdout",
          "text": [
            "Hidden Neurons: 10\n",
            "Predictions: [0 1 1 0]\n",
            "Training Loss: 0.3909\n",
            "Number of Iterations: 1000\n",
            "----------------------------------------\n",
            "Hidden Neurons: 20\n",
            "Predictions: [0 1 1 0]\n",
            "Training Loss: 0.1914\n",
            "Number of Iterations: 1000\n",
            "----------------------------------------\n"
          ]
        },
        {
          "output_type": "stream",
          "name": "stderr",
          "text": [
            "/usr/local/lib/python3.12/dist-packages/sklearn/neural_network/_multilayer_perceptron.py:691: ConvergenceWarning: Stochastic Optimizer: Maximum iterations (1000) reached and the optimization hasn't converged yet.\n",
            "  warnings.warn(\n"
          ]
        }
      ]
    },
    {
      "cell_type": "markdown",
      "source": [
        "4.MLP on MNIST dataset and display its train and test data score."
      ],
      "metadata": {
        "id": "9sY3gvB-FSLJ"
      }
    },
    {
      "cell_type": "code",
      "source": [
        "from sklearn.datasets import fetch_openml\n",
        "from sklearn.model_selection import train_test_split\n",
        "from sklearn.preprocessing import StandardScaler\n",
        "from sklearn.neural_network import MLPClassifier\n",
        "\n",
        "mnist = fetch_openml('mnist_784', version=1)\n",
        "X, y = mnist.data, mnist.target.astype(int)\n",
        "X_train, X_test, y_train, y_test = train_test_split(X, y, test_size=0.2, random_state=42)\n",
        "\n",
        "scaler = StandardScaler()\n",
        "X_train = scaler.fit_transform(X_train)\n",
        "X_test = scaler.transform(X_test)\n",
        "\n",
        "mlp = MLPClassifier(hidden_layer_sizes=(50,), activation='relu', solver='adam', max_iter=20, random_state=42)\n",
        "mlp.fit(X_train, y_train)\n",
        "\n",
        "train_score = mlp.score(X_train, y_train)\n",
        "test_score = mlp.score(X_test, y_test)\n",
        "\n",
        "print(f\"Train Score: {train_score:.4f}\")\n",
        "print(f\"Test Score: {test_score:.4f}\")"
      ],
      "metadata": {
        "colab": {
          "base_uri": "https://localhost:8080/",
          "height": 0
        },
        "id": "VrF18pg2FUas",
        "outputId": "6a88fb4d-53b4-4e58-d9ca-b6bf816bc405"
      },
      "execution_count": 4,
      "outputs": [
        {
          "output_type": "stream",
          "name": "stderr",
          "text": [
            "/usr/local/lib/python3.12/dist-packages/sklearn/neural_network/_multilayer_perceptron.py:691: ConvergenceWarning: Stochastic Optimizer: Maximum iterations (20) reached and the optimization hasn't converged yet.\n",
            "  warnings.warn(\n"
          ]
        },
        {
          "output_type": "stream",
          "name": "stdout",
          "text": [
            "Train Score: 0.9992\n",
            "Test Score: 0.9656\n"
          ]
        }
      ]
    },
    {
      "cell_type": "markdown",
      "source": [
        "5. Find the relation between learning rate and loss (or) number  of iterations and loss."
      ],
      "metadata": {
        "id": "ufuUIkEXFgoP"
      }
    },
    {
      "cell_type": "code",
      "source": [
        "from sklearn.neural_network import MLPClassifier\n",
        "import numpy as np\n",
        "import matplotlib.pyplot as plt\n",
        "\n",
        "# Example dataset: XOR\n",
        "X = np.array([[0,0],[0,1],[1,0],[1,1]])\n",
        "y = np.array([0,1,1,0])\n",
        "\n",
        "learning_rates = [0.01, 0.05, 0.1, 0.5, 1.0]\n",
        "losses = []\n",
        "\n",
        "for lr in learning_rates:\n",
        "    mlp = MLPClassifier(hidden_layer_sizes=(2,), solver='sgd', learning_rate_init=lr, max_iter=500, random_state=42)\n",
        "    mlp.fit(X, y)\n",
        "    losses.append(mlp.loss_)\n",
        "\n",
        "plt.plot(learning_rates, losses, marker='o')\n",
        "plt.xlabel(\"Learning Rate\")\n",
        "plt.ylabel(\"Final Loss\")\n",
        "plt.title(\"Learning Rate vs Loss\")\n",
        "plt.show()"
      ],
      "metadata": {
        "colab": {
          "base_uri": "https://localhost:8080/",
          "height": 472
        },
        "id": "c8URMyHtFo5r",
        "outputId": "c0aebc96-029c-4fd8-a090-1271e535943a"
      },
      "execution_count": 5,
      "outputs": [
        {
          "output_type": "display_data",
          "data": {
            "text/plain": [
              "<Figure size 640x480 with 1 Axes>"
            ],
            "image/png": "[encoded data removed]"
          },
          "metadata": {}
        }
      ]
    },
    {
      "cell_type": "markdown",
      "source": [
        "6. Find the relation between number of neurons with learning rate and iterations."
      ],
      "metadata": {
        "id": "3vDQVz5yFzgE"
      }
    },
    {
      "cell_type": "code",
      "source": [
        "from sklearn.neural_network import MLPClassifier\n",
        "import numpy as np\n",
        "import pandas as pd\n",
        "\n",
        "# Example dataset: XOR\n",
        "X = np.array([[0,0],[0,1],[1,0],[1,1]])\n",
        "y = np.array([0,1,1,0])\n",
        "\n",
        "# Hyperparameters to test\n",
        "neurons_list = [1, 2, 5, 10]\n",
        "learning_rates = [0.01, 0.1, 0.5]\n",
        "iterations = [50, 100, 200]\n",
        "\n",
        "results = []\n",
        "\n",
        "for n in neurons_list:\n",
        "    for lr in learning_rates:\n",
        "        for it in iterations:\n",
        "            mlp = MLPClassifier(hidden_layer_sizes=(n,), solver='sgd', learning_rate_init=lr, max_iter=it, random_state=42)\n",
        "            mlp.fit(X, y)\n",
        "            results.append({\n",
        "                \"Neurons\": n,\n",
        "                \"Learning Rate\": lr,\n",
        "                \"Iterations\": it,\n",
        "                \"Loss\": mlp.loss_})\n",
        "\n",
        "df = pd.DataFrame(results)\n",
        "print(df)"
      ],
      "metadata": {
        "colab": {
          "base_uri": "https://localhost:8080/",
          "height": 0
        },
        "id": "MKU3N7JvF1yN",
        "outputId": "bab38a93-8c67-4bf1-ad82-c3a556189d21"
      },
      "execution_count": 6,
      "outputs": [
        {
          "output_type": "stream",
          "name": "stderr",
          "text": [
            "/usr/local/lib/python3.12/dist-packages/sklearn/neural_network/_multilayer_perceptron.py:691: ConvergenceWarning: Stochastic Optimizer: Maximum iterations (50) reached and the optimization hasn't converged yet.\n",
            "  warnings.warn(\n",
            "/usr/local/lib/python3.12/dist-packages/sklearn/neural_network/_multilayer_perceptron.py:691: ConvergenceWarning: Stochastic Optimizer: Maximum iterations (100) reached and the optimization hasn't converged yet.\n",
            "  warnings.warn(\n",
            "/usr/local/lib/python3.12/dist-packages/sklearn/neural_network/_multilayer_perceptron.py:691: ConvergenceWarning: Stochastic Optimizer: Maximum iterations (50) reached and the optimization hasn't converged yet.\n",
            "  warnings.warn(\n",
            "/usr/local/lib/python3.12/dist-packages/sklearn/neural_network/_multilayer_perceptron.py:691: ConvergenceWarning: Stochastic Optimizer: Maximum iterations (100) reached and the optimization hasn't converged yet.\n",
            "  warnings.warn(\n",
            "/usr/local/lib/python3.12/dist-packages/sklearn/neural_network/_multilayer_perceptron.py:691: ConvergenceWarning: Stochastic Optimizer: Maximum iterations (200) reached and the optimization hasn't converged yet.\n",
            "  warnings.warn(\n",
            "/usr/local/lib/python3.12/dist-packages/sklearn/neural_network/_multilayer_perceptron.py:691: ConvergenceWarning: Stochastic Optimizer: Maximum iterations (50) reached and the optimization hasn't converged yet.\n",
            "  warnings.warn(\n",
            "/usr/local/lib/python3.12/dist-packages/sklearn/neural_network/_multilayer_perceptron.py:691: ConvergenceWarning: Stochastic Optimizer: Maximum iterations (100) reached and the optimization hasn't converged yet.\n",
            "  warnings.warn(\n",
            "/usr/local/lib/python3.12/dist-packages/sklearn/neural_network/_multilayer_perceptron.py:691: ConvergenceWarning: Stochastic Optimizer: Maximum iterations (200) reached and the optimization hasn't converged yet.\n",
            "  warnings.warn(\n"
          ]
        },
        {
          "output_type": "stream",
          "name": "stdout",
          "text": [
            "    Neurons  Learning Rate  Iterations      Loss\n",
            "0         1           0.01          50  0.710589\n",
            "1         1           0.01         100  0.703591\n",
            "2         1           0.01         200  0.703234\n",
            "3         1           0.10          50  0.693789\n",
            "4         1           0.10         100  0.693789\n",
            "5         1           0.10         200  0.693789\n",
            "6         1           0.50          50  0.693363\n",
            "7         1           0.50         100  0.693363\n",
            "8         1           0.50         200  0.693363\n",
            "9         2           0.01          50  0.669431\n",
            "10        2           0.01         100  0.623380\n",
            "11        2           0.01         200  0.533531\n",
            "12        2           0.10          50  0.694244\n",
            "13        2           0.10         100  0.694244\n",
            "14        2           0.10         200  0.694244\n",
            "15        2           0.50          50  0.693433\n",
            "16        2           0.50         100  0.693433\n",
            "17        2           0.50         200  0.693433\n",
            "18        5           0.01          50  0.697545\n",
            "19        5           0.01         100  0.697545\n",
            "20        5           0.01         200  0.697545\n",
            "21        5           0.10          50  0.693395\n",
            "22        5           0.10         100  0.693395\n",
            "23        5           0.10         200  0.693395\n",
            "24        5           0.50          50  0.693563\n",
            "25        5           0.50         100  0.693563\n",
            "26        5           0.50         200  0.693563\n",
            "27       10           0.01          50  0.624019\n",
            "28       10           0.01         100  0.565990\n",
            "29       10           0.01         200  0.477273\n",
            "30       10           0.10          50  0.309364\n",
            "31       10           0.10         100  0.055698\n",
            "32       10           0.10         200  0.016392\n",
            "33       10           0.50          50  0.006843\n",
            "34       10           0.50         100  0.004768\n",
            "35       10           0.50         200  0.004768\n"
          ]
        },
        {
          "output_type": "stream",
          "name": "stderr",
          "text": [
            "/usr/local/lib/python3.12/dist-packages/sklearn/neural_network/_multilayer_perceptron.py:691: ConvergenceWarning: Stochastic Optimizer: Maximum iterations (50) reached and the optimization hasn't converged yet.\n",
            "  warnings.warn(\n",
            "/usr/local/lib/python3.12/dist-packages/sklearn/neural_network/_multilayer_perceptron.py:691: ConvergenceWarning: Stochastic Optimizer: Maximum iterations (100) reached and the optimization hasn't converged yet.\n",
            "  warnings.warn(\n",
            "/usr/local/lib/python3.12/dist-packages/sklearn/neural_network/_multilayer_perceptron.py:691: ConvergenceWarning: Stochastic Optimizer: Maximum iterations (200) reached and the optimization hasn't converged yet.\n",
            "  warnings.warn(\n",
            "/usr/local/lib/python3.12/dist-packages/sklearn/neural_network/_multilayer_perceptron.py:691: ConvergenceWarning: Stochastic Optimizer: Maximum iterations (50) reached and the optimization hasn't converged yet.\n",
            "  warnings.warn(\n"
          ]
        }
      ]
    }
  ]
}