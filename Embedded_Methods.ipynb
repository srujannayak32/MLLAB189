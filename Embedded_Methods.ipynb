{
  "nbformat": 4,
  "nbformat_minor": 0,
  "metadata": {
    "colab": {
      "provenance": [],
      "authorship_tag": "ABX9TyOWdYjxuuN+A11pSe27kdaD",
      "include_colab_link": true
    },
    "kernelspec": {
      "name": "python3",
      "display_name": "Python 3"
    },
    "language_info": {
      "name": "python"
    }
  },
  "cells": [
    {
      "cell_type": "markdown",
      "metadata": {
        "id": "view-in-github",
        "colab_type": "text"
      },
      "source": [
        "<a href=\"https://colab.research.google.com/github/srujannayak32/MLLAB189/blob/main/Embedded_Methods.ipynb\" target=\"_parent\"><img src=\"https://colab.research.google.com/assets/colab-badge.svg\" alt=\"Open In Colab\"/></a>"
      ]
    },
    {
      "cell_type": "code",
      "execution_count": null,
      "metadata": {
        "colab": {
          "base_uri": "https://localhost:8080/"
        },
        "id": "rtkh80SR6juT",
        "outputId": "ec842a1b-1f9e-473b-a1ad-af1394e67dbe"
      },
      "outputs": [
        {
          "output_type": "stream",
          "name": "stdout",
          "text": [
            "Mounted at /content/drive\n"
          ]
        }
      ],
      "source": [
        "from google.colab import drive\n",
        "drive.mount('/content/drive')"
      ]
    },
    {
      "cell_type": "code",
      "source": [
        "#L1 Regularization- LASSO\n",
        "from sklearn.linear_model import Lasso\n",
        "from sklearn.preprocessing import StandardScaler\n",
        "import pandas as pd\n",
        "\n",
        "data=pd.read_csv('/content/drive/MyDrive/MLLAB DATASETS/Santander Customer Satisfaction_train.csv')\n",
        "TARGET=\"TARGET\"\n",
        "X=data.drop(columns=[TARGET])\n",
        "\n",
        "Y=data[TARGET]\n",
        "\n",
        "features=X.columns\n",
        "\n",
        "scaler=StandardScaler()\n",
        "X_scaled=scaler.fit_transform(X)\n",
        "\n",
        "lasso=Lasso(alpha=0.001)\n",
        "lasso.fit(X_scaled,Y)\n",
        "\n",
        "lasso_features=pd.DataFrame({\"Features\": features, \"Coefficient\":lasso.coef_ })\n",
        "print(lasso_features)\n",
        "\n",
        "selected_features=lasso_features[lasso_features[\"Coefficient\"] != 0]\n",
        "\n",
        "selected_features = selected_features.reindex(selected_features.Coefficient.abs().sort_values(ascending=False).index)\n",
        "print(\"Top important features:\")\n",
        "print(selected_features)"
      ],
      "metadata": {
        "colab": {
          "base_uri": "https://localhost:8080/"
        },
        "id": "XPTZTC5U7TDm",
        "outputId": "c329a898-0628-48d2-d834-7dceae4973c2"
      },
      "execution_count": 4,
      "outputs": [
        {
          "output_type": "stream",
          "name": "stdout",
          "text": [
            "                    Features  Coefficient\n",
            "0                         ID     0.000000\n",
            "1                       var3     0.001493\n",
            "2                      var15     0.024372\n",
            "3         imp_ent_var16_ult1     0.000000\n",
            "4    imp_op_var39_comer_ult1     0.000000\n",
            "..                       ...          ...\n",
            "365  saldo_medio_var44_hace2    -0.000000\n",
            "366  saldo_medio_var44_hace3    -0.000000\n",
            "367   saldo_medio_var44_ult1    -0.000000\n",
            "368   saldo_medio_var44_ult3    -0.000000\n",
            "369                    var38    -0.003541\n",
            "\n",
            "[370 rows x 2 columns]\n",
            "Top important features:\n",
            "                    Features   Coefficient\n",
            "2                      var15  2.437173e-02\n",
            "64                 ind_var30 -2.144724e-02\n",
            "39                 ind_var13 -8.167182e-03\n",
            "63               ind_var30_0  6.167746e-03\n",
            "28                ind_var8_0  5.780598e-03\n",
            "281      num_meses_var5_ult3 -5.658927e-03\n",
            "50                 ind_var24 -4.908731e-03\n",
            "277           num_var22_ult1  4.249209e-03\n",
            "369                    var38 -3.540756e-03\n",
            "183              saldo_var30 -3.172565e-03\n",
            "30               ind_var12_0 -2.328588e-03\n",
            "194                    var36  2.325835e-03\n",
            "106              num_var14_0  1.895099e-03\n",
            "65               ind_var31_0 -1.766614e-03\n",
            "165               saldo_var5 -1.724840e-03\n",
            "303  num_op_var39_efect_ult3  1.648337e-03\n",
            "16   imp_op_var39_efect_ult1  1.645091e-03\n",
            "9    imp_op_var40_efect_ult3  1.635981e-03\n",
            "260     ind_var43_recib_ult1 -1.583004e-03\n",
            "307     num_reemb_var17_ult1  1.493940e-03\n",
            "1                       var3  1.492759e-03\n",
            "279       num_med_var22_ult3  1.468987e-03\n",
            "178              saldo_var26 -1.454989e-03\n",
            "77               ind_var39_0 -1.280727e-03\n",
            "312     num_var43_recib_ult1 -1.241187e-03\n",
            "274       num_ent_var16_ult1  1.200820e-03\n",
            "15         imp_op_var41_ult1  1.126787e-03\n",
            "35         ind_var13_largo_0 -1.116520e-03\n",
            "68               ind_var32_0 -9.561160e-04\n",
            "326           num_var45_ult1  9.408759e-04\n",
            "167               saldo_var8 -9.352304e-04\n",
            "259      ind_var43_emit_ult1 -8.242123e-04\n",
            "275          num_var22_hace2  6.454328e-04\n",
            "335    saldo_medio_var8_ult1 -6.190377e-04\n",
            "149       num_var37_med_ult2 -4.806756e-04\n",
            "331    saldo_medio_var5_ult1 -4.381286e-04\n",
            "310       num_sal_var16_ult1  4.342508e-04\n",
            "264    num_aport_var13_hace3 -4.222871e-04\n",
            "333   saldo_medio_var8_hace2 -3.922217e-04\n",
            "329   saldo_medio_var5_hace2 -3.491677e-04\n",
            "8    imp_op_var40_efect_ult1  2.841791e-04\n",
            "159                num_var42 -2.358034e-04\n",
            "302  num_op_var39_efect_ult1  1.487038e-04\n",
            "296  num_op_var40_efect_ult1  1.172448e-04\n",
            "69                 ind_var32 -2.804036e-18\n"
          ]
        }
      ]
    },
    {
      "cell_type": "code",
      "source": [
        "#L2 Regularization (RIDGE)\n",
        "from sklearn.linear_model import Ridge\n",
        "from sklearn.preprocessing import StandardScaler\n",
        "import pandas as pd\n",
        "\n",
        "data= pd.read_csv('/content/drive/MyDrive/MLLAB DATASETS/Santander Customer Satisfaction_train.csv')\n",
        "target='TARGET'\n",
        "X=data[data.select_dtypes(include=['number']).columns].drop(columns=[target]).fillna(0)\n",
        "Y=data[target]\n",
        "\n",
        "scaler=StandardScaler()\n",
        "X_scaled=scaler.fit_transform(X)\n",
        "\n",
        "ridge=Ridge(alpha=1.0)\n",
        "ridge.fit(X_scaled,Y)\n",
        "\n",
        "ridge_features=pd.DataFrame({\"Features\": X.columns, \"Coefficient\":ridge.coef_ })\n",
        "print(ridge_features)\n",
        "\n",
        "selected_features=ridge_features[ridge_features[\"Coefficient\"] != 0]\n",
        "\n",
        "selected_features = selected_features.reindex(selected_features.Coefficient.abs().sort_values(ascending=False).index)\n",
        "print(\"Top important features:\")\n",
        "print(selected_features)"
      ],
      "metadata": {
        "colab": {
          "base_uri": "https://localhost:8080/"
        },
        "id": "sS2aLSSY84q9",
        "outputId": "2576773f-d3a0-4ae9-885b-ca254351372b"
      },
      "execution_count": 6,
      "outputs": [
        {
          "output_type": "stream",
          "name": "stdout",
          "text": [
            "                    Features  Coefficient\n",
            "0                         ID     0.000593\n",
            "1                       var3     0.002538\n",
            "2                      var15     0.026116\n",
            "3         imp_ent_var16_ult1    -0.000179\n",
            "4    imp_op_var39_comer_ult1     0.003370\n",
            "..                       ...          ...\n",
            "365  saldo_medio_var44_hace2     0.000166\n",
            "366  saldo_medio_var44_hace3     0.000777\n",
            "367   saldo_medio_var44_ult1    -0.000619\n",
            "368   saldo_medio_var44_ult3     0.001040\n",
            "369                    var38    -0.004531\n",
            "\n",
            "[370 rows x 2 columns]\n",
            "Top important features:\n",
            "                          Features  Coefficient\n",
            "159                      num_var42    -0.060279\n",
            "153                    num_var40_0     0.055215\n",
            "87                      num_var1_0     0.054988\n",
            "78                     ind_var40_0    -0.054007\n",
            "20                      ind_var1_0    -0.053877\n",
            "..                             ...          ...\n",
            "286     num_meses_var13_medio_ult3     0.000004\n",
            "38                 ind_var13_medio     0.000004\n",
            "37               ind_var13_medio_0     0.000004\n",
            "352   saldo_medio_var13_medio_ult3    -0.000003\n",
            "349  saldo_medio_var13_medio_hace2     0.000002\n",
            "\n",
            "[336 rows x 2 columns]\n"
          ]
        }
      ]
    },
    {
      "cell_type": "code",
      "source": [
        "#Elastic Net(L1+L2)\n",
        "from sklearn.linear_model import ElasticNet\n",
        "from sklearn.preprocessing import StandardScaler\n",
        "import pandas as pd\n",
        "\n",
        "data= pd.read_csv('/content/drive/MyDrive/MLLAB DATASETS/house_price_train.csv')\n",
        "target='SalePrice'\n",
        "X=data[data.select_dtypes(include=['number']).columns].drop(columns=[target]).fillna(0)\n",
        "Y=data[target]\n",
        "\n",
        "scaler=StandardScaler()\n",
        "X_scaled=scaler.fit_transform(X)\n",
        "\n",
        "elastic=ElasticNet(alpha=0.1,l1_ratio=0.5)\n",
        "elastic.fit(X_scaled,Y)\n",
        "\n",
        "elastic_features=pd.DataFrame({\"Features\": X.columns, \"Coefficient\":elastic.coef_ })\n",
        "print(elastic_features)\n",
        "\n",
        "selected_features=elastic_features[elastic_features[\"Coefficient\"] != 0]\n",
        "\n",
        "selected_features = selected_features.reindex(selected_features.Coefficient.abs().sort_values(ascending=False).index)\n",
        "print(\"Top important features:\")\n",
        "print(selected_features)"
      ],
      "metadata": {
        "colab": {
          "base_uri": "https://localhost:8080/"
        },
        "id": "B5vRonh89AV_",
        "outputId": "6f1483d3-c9d0-4582-e083-46577ef234d7"
      },
      "execution_count": 7,
      "outputs": [
        {
          "output_type": "stream",
          "name": "stdout",
          "text": [
            "         Features   Coefficient\n",
            "0              Id   -471.529093\n",
            "1      MSSubClass  -6209.057853\n",
            "2     LotFrontage    569.238082\n",
            "3         LotArea   3751.348956\n",
            "4     OverallQual  22124.925826\n",
            "5     OverallCond   4949.495919\n",
            "6       YearBuilt   8724.949799\n",
            "7    YearRemodAdd   3726.314011\n",
            "8      MasVnrArea   5318.129087\n",
            "9      BsmtFinSF1   4542.173250\n",
            "10     BsmtFinSF2      2.604533\n",
            "11      BsmtUnfSF    -23.287036\n",
            "12    TotalBsmtSF   4699.022402\n",
            "13       1stFlrSF   7507.227681\n",
            "14       2ndFlrSF   8403.926382\n",
            "15   LowQualFinSF   -355.118983\n",
            "16      GrLivArea  12471.832291\n",
            "17   BsmtFullBath   4238.844234\n",
            "18   BsmtHalfBath    282.306321\n",
            "19       FullBath   2990.287967\n",
            "20       HalfBath    105.981440\n",
            "21   BedroomAbvGr  -7140.218861\n",
            "22   KitchenAbvGr  -3707.091386\n",
            "23   TotRmsAbvGrd   7825.569357\n",
            "24     Fireplaces   3289.646449\n",
            "25    GarageYrBlt  -5578.057190\n",
            "26     GarageCars   9713.179203\n",
            "27     GarageArea   2897.065540\n",
            "28     WoodDeckSF   3315.352068\n",
            "29    OpenPorchSF   -133.624675\n",
            "30  EnclosedPorch    573.030363\n",
            "31      3SsnPorch    595.726705\n",
            "32    ScreenPorch   3029.716007\n",
            "33       PoolArea  -1163.199818\n",
            "34        MiscVal   -209.293075\n",
            "35         MoSold     -9.228298\n",
            "36         YrSold   -907.080524\n",
            "Top important features:\n",
            "         Features   Coefficient\n",
            "4     OverallQual  22124.925826\n",
            "16      GrLivArea  12471.832291\n",
            "26     GarageCars   9713.179203\n",
            "6       YearBuilt   8724.949799\n",
            "14       2ndFlrSF   8403.926382\n",
            "23   TotRmsAbvGrd   7825.569357\n",
            "13       1stFlrSF   7507.227681\n",
            "21   BedroomAbvGr  -7140.218861\n",
            "1      MSSubClass  -6209.057853\n",
            "25    GarageYrBlt  -5578.057190\n",
            "8      MasVnrArea   5318.129087\n",
            "5     OverallCond   4949.495919\n",
            "12    TotalBsmtSF   4699.022402\n",
            "9      BsmtFinSF1   4542.173250\n",
            "17   BsmtFullBath   4238.844234\n",
            "3         LotArea   3751.348956\n",
            "7    YearRemodAdd   3726.314011\n",
            "22   KitchenAbvGr  -3707.091386\n",
            "28     WoodDeckSF   3315.352068\n",
            "24     Fireplaces   3289.646449\n",
            "32    ScreenPorch   3029.716007\n",
            "19       FullBath   2990.287967\n",
            "27     GarageArea   2897.065540\n",
            "33       PoolArea  -1163.199818\n",
            "36         YrSold   -907.080524\n",
            "31      3SsnPorch    595.726705\n",
            "30  EnclosedPorch    573.030363\n",
            "2     LotFrontage    569.238082\n",
            "0              Id   -471.529093\n",
            "15   LowQualFinSF   -355.118983\n",
            "18   BsmtHalfBath    282.306321\n",
            "34        MiscVal   -209.293075\n",
            "29    OpenPorchSF   -133.624675\n",
            "20       HalfBath    105.981440\n",
            "11      BsmtUnfSF    -23.287036\n",
            "35         MoSold     -9.228298\n",
            "10     BsmtFinSF2      2.604533\n"
          ]
        }
      ]
    }
  ]
}