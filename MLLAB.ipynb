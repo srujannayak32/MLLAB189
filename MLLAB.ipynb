{
  "nbformat": 4,
  "nbformat_minor": 0,
  "metadata": {
    "colab": {
      "provenance": [],
      "mount_file_id": "https://github.com/srujannayak32/MLLAB189/blob/main/MLLAB.ipynb",
      "authorship_tag": "ABX9TyOBm1IQFHeMODxVeiwU0BRk",
      "include_colab_link": true
    },
    "kernelspec": {
      "name": "python3",
      "display_name": "Python 3"
    },
    "language_info": {
      "name": "python"
    }
  },
  "cells": [
    {
      "cell_type": "markdown",
      "metadata": {
        "id": "view-in-github",
        "colab_type": "text"
      },
      "source": [
        "<a href=\"https://colab.research.google.com/github/srujannayak32/MLLAB189/blob/main/MLLAB.ipynb\" target=\"_parent\"><img src=\"https://colab.research.google.com/assets/colab-badge.svg\" alt=\"Open In Colab\"/></a>"
      ]
    },
    {
      "cell_type": "code",
      "execution_count": null,
      "metadata": {
        "colab": {
          "base_uri": "https://localhost:8080/"
        },
        "id": "qL9pj8uN1VZl",
        "outputId": "c9342617-ece8-4fbb-da97-25493ce3a606"
      },
      "outputs": [
        {
          "output_type": "stream",
          "name": "stdout",
          "text": [
            "[[ 0  1  2]\n",
            " [ 3  4  5]\n",
            " [ 6  7  8]\n",
            " [ 9 10 11]\n",
            " [12 13 14]]\n"
          ]
        }
      ],
      "source": [
        "import numpy as np\n",
        "n = np.arange(15).reshape(5,3)\n",
        "print(n)\n",
        "\n"
      ]
    },
    {
      "cell_type": "code",
      "source": [
        "n1 = np.arange(6).reshape(3,2)\n",
        "print(n1)"
      ],
      "metadata": {
        "colab": {
          "base_uri": "https://localhost:8080/"
        },
        "id": "Q4s3At391om-",
        "outputId": "7ae992e1-f544-45d8-ea2e-134d2e5646f2"
      },
      "execution_count": null,
      "outputs": [
        {
          "output_type": "stream",
          "name": "stdout",
          "text": [
            "[[0 1]\n",
            " [2 3]\n",
            " [4 5]]\n"
          ]
        }
      ]
    },
    {
      "cell_type": "code",
      "source": [
        "print(np.dot(n,n1))"
      ],
      "metadata": {
        "colab": {
          "base_uri": "https://localhost:8080/"
        },
        "id": "mjXVRq8-1oEq",
        "outputId": "c2c305e7-ef8e-4a52-aa34-924440de4880"
      },
      "execution_count": null,
      "outputs": [
        {
          "output_type": "stream",
          "name": "stdout",
          "text": [
            "[[ 10  13]\n",
            " [ 28  40]\n",
            " [ 46  67]\n",
            " [ 64  94]\n",
            " [ 82 121]]\n"
          ]
        }
      ]
    },
    {
      "cell_type": "code",
      "source": [
        "n=np.arange(11)\n",
        "n2=(n[n%2 != 0])\n",
        "print(n2)"
      ],
      "metadata": {
        "colab": {
          "base_uri": "https://localhost:8080/"
        },
        "id": "uOtOT03g2l9k",
        "outputId": "322e59e6-cfc6-4f17-c058-984b3c065016"
      },
      "execution_count": null,
      "outputs": [
        {
          "output_type": "stream",
          "name": "stdout",
          "text": [
            "[1 3 5 7 9]\n"
          ]
        }
      ]
    },
    {
      "cell_type": "code",
      "source": [
        "n=np.arange(10)\n",
        "n[:]= np.mean(n)\n",
        "print(n)"
      ],
      "metadata": {
        "colab": {
          "base_uri": "https://localhost:8080/"
        },
        "id": "ezgjAgXq3Gok",
        "outputId": "67694539-530b-4375-ec72-8bb6eb466bd5"
      },
      "execution_count": null,
      "outputs": [
        {
          "output_type": "stream",
          "name": "stdout",
          "text": [
            "[4 4 4 4 4 4 4 4 4 4]\n"
          ]
        }
      ]
    },
    {
      "cell_type": "code",
      "source": [
        "n=np.ones((5,5))\n",
        "print(n)\n",
        "n[1:-1,1:-1] = 0\n",
        "print(n)\n"
      ],
      "metadata": {
        "colab": {
          "base_uri": "https://localhost:8080/"
        },
        "id": "x7l__olK6dD8",
        "outputId": "baf15de8-52b3-4c60-989d-d54d26a51b75"
      },
      "execution_count": null,
      "outputs": [
        {
          "output_type": "stream",
          "name": "stdout",
          "text": [
            "[[1. 1. 1. 1. 1.]\n",
            " [1. 1. 1. 1. 1.]\n",
            " [1. 1. 1. 1. 1.]\n",
            " [1. 1. 1. 1. 1.]\n",
            " [1. 1. 1. 1. 1.]]\n",
            "[[1. 1. 1. 1. 1.]\n",
            " [1. 0. 0. 0. 1.]\n",
            " [1. 0. 0. 0. 1.]\n",
            " [1. 0. 0. 0. 1.]\n",
            " [1. 1. 1. 1. 1.]]\n"
          ]
        }
      ]
    },
    {
      "cell_type": "code",
      "source": [
        "n=np.array([1,2,3,4,5,6,7,3,4,2,9,22,4])\n",
        "n2= np.unique(n,return_counts=True)\n",
        "print(n2)"
      ],
      "metadata": {
        "colab": {
          "base_uri": "https://localhost:8080/"
        },
        "id": "cg7sht6U63oX",
        "outputId": "4ad32345-9661-450d-ed24-8622ed44a82f"
      },
      "execution_count": null,
      "outputs": [
        {
          "output_type": "stream",
          "name": "stdout",
          "text": [
            "(array([ 1,  2,  3,  4,  5,  6,  7,  9, 22]), array([1, 2, 2, 3, 1, 1, 1, 1, 1]))\n"
          ]
        }
      ]
    },
    {
      "cell_type": "code",
      "source": [
        "n=np.random.random((3,3))\n",
        "print(n)\n",
        "n[n>0.5]=1\n",
        "n[n<=0.5]=0\n",
        "print(n)\n"
      ],
      "metadata": {
        "colab": {
          "base_uri": "https://localhost:8080/"
        },
        "id": "pY__6_EL7Laj",
        "outputId": "e3d6c768-2590-48b2-8a08-50651a0f565d"
      },
      "execution_count": null,
      "outputs": [
        {
          "output_type": "stream",
          "name": "stdout",
          "text": [
            "[[0.08119809 0.85248017 0.63475618]\n",
            " [0.0981888  0.05261166 0.11971205]\n",
            " [0.66442912 0.32734523 0.78736779]]\n",
            "[[0. 1. 1.]\n",
            " [0. 0. 0.]\n",
            " [1. 0. 1.]]\n"
          ]
        }
      ]
    },
    {
      "cell_type": "code",
      "source": [],
      "metadata": {
        "id": "2fWyFnW372n3"
      },
      "execution_count": null,
      "outputs": []
    },
    {
      "cell_type": "code",
      "source": [
        "import pandas as pd\n",
        "df=pd.read_csv(\"/content/sample_data/mnist_test.csv\")\n",
        "print(df.shape)\n",
        "print(type(df))\n",
        "print(df.head())"
      ],
      "metadata": {
        "colab": {
          "base_uri": "https://localhost:8080/"
        },
        "id": "1nHQKTgn61kF",
        "outputId": "a0dd1d32-776c-4a65-8a49-b66f66bee644"
      },
      "execution_count": null,
      "outputs": [
        {
          "output_type": "stream",
          "name": "stdout",
          "text": [
            "(9999, 785)\n",
            "<class 'pandas.core.frame.DataFrame'>\n",
            "   7  0  0.1  0.2  0.3  0.4  0.5  0.6  0.7  0.8  ...  0.658  0.659  0.660  \\\n",
            "0  2  0    0    0    0    0    0    0    0    0  ...      0      0      0   \n",
            "1  1  0    0    0    0    0    0    0    0    0  ...      0      0      0   \n",
            "2  0  0    0    0    0    0    0    0    0    0  ...      0      0      0   \n",
            "3  4  0    0    0    0    0    0    0    0    0  ...      0      0      0   \n",
            "4  1  0    0    0    0    0    0    0    0    0  ...      0      0      0   \n",
            "\n",
            "   0.661  0.662  0.663  0.664  0.665  0.666  0.667  \n",
            "0      0      0      0      0      0      0      0  \n",
            "1      0      0      0      0      0      0      0  \n",
            "2      0      0      0      0      0      0      0  \n",
            "3      0      0      0      0      0      0      0  \n",
            "4      0      0      0      0      0      0      0  \n",
            "\n",
            "[5 rows x 785 columns]\n"
          ]
        }
      ]
    },
    {
      "cell_type": "code",
      "source": [
        "import sklearn as sk\n",
        "from sklearn.datasets import load_iris\n",
        "\n",
        "iris=load_iris()\n",
        "\n",
        "print(iris.keys())\n",
        "print(iris.data.shape)\n",
        "print(iris.feature_names)\n",
        "print(iris.DESCR)"
      ],
      "metadata": {
        "colab": {
          "base_uri": "https://localhost:8080/"
        },
        "id": "vfLie-GH94hm",
        "outputId": "57dcd799-05ba-4796-cac7-9df157be6396"
      },
      "execution_count": null,
      "outputs": [
        {
          "output_type": "stream",
          "name": "stdout",
          "text": [
            "dict_keys(['data', 'target', 'frame', 'target_names', 'DESCR', 'feature_names', 'filename', 'data_module'])\n",
            "(150, 4)\n",
            "['sepal length (cm)', 'sepal width (cm)', 'petal length (cm)', 'petal width (cm)']\n",
            ".. _iris_dataset:\n",
            "\n",
            "Iris plants dataset\n",
            "--------------------\n",
            "\n",
            "**Data Set Characteristics:**\n",
            "\n",
            ":Number of Instances: 150 (50 in each of three classes)\n",
            ":Number of Attributes: 4 numeric, predictive attributes and the class\n",
            ":Attribute Information:\n",
            "    - sepal length in cm\n",
            "    - sepal width in cm\n",
            "    - petal length in cm\n",
            "    - petal width in cm\n",
            "    - class:\n",
            "            - Iris-Setosa\n",
            "            - Iris-Versicolour\n",
            "            - Iris-Virginica\n",
            "\n",
            ":Summary Statistics:\n",
            "\n",
            "============== ==== ==== ======= ===== ====================\n",
            "                Min  Max   Mean    SD   Class Correlation\n",
            "============== ==== ==== ======= ===== ====================\n",
            "sepal length:   4.3  7.9   5.84   0.83    0.7826\n",
            "sepal width:    2.0  4.4   3.05   0.43   -0.4194\n",
            "petal length:   1.0  6.9   3.76   1.76    0.9490  (high!)\n",
            "petal width:    0.1  2.5   1.20   0.76    0.9565  (high!)\n",
            "============== ==== ==== ======= ===== ====================\n",
            "\n",
            ":Missing Attribute Values: None\n",
            ":Class Distribution: 33.3% for each of 3 classes.\n",
            ":Creator: R.A. Fisher\n",
            ":Donor: Michael Marshall (MARSHALL%PLU@io.arc.nasa.gov)\n",
            ":Date: July, 1988\n",
            "\n",
            "The famous Iris database, first used by Sir R.A. Fisher. The dataset is taken\n",
            "from Fisher's paper. Note that it's the same as in R, but not as in the UCI\n",
            "Machine Learning Repository, which has two wrong data points.\n",
            "\n",
            "This is perhaps the best known database to be found in the\n",
            "pattern recognition literature.  Fisher's paper is a classic in the field and\n",
            "is referenced frequently to this day.  (See Duda & Hart, for example.)  The\n",
            "data set contains 3 classes of 50 instances each, where each class refers to a\n",
            "type of iris plant.  One class is linearly separable from the other 2; the\n",
            "latter are NOT linearly separable from each other.\n",
            "\n",
            ".. dropdown:: References\n",
            "\n",
            "  - Fisher, R.A. \"The use of multiple measurements in taxonomic problems\"\n",
            "    Annual Eugenics, 7, Part II, 179-188 (1936); also in \"Contributions to\n",
            "    Mathematical Statistics\" (John Wiley, NY, 1950).\n",
            "  - Duda, R.O., & Hart, P.E. (1973) Pattern Classification and Scene Analysis.\n",
            "    (Q327.D83) John Wiley & Sons.  ISBN 0-471-22361-1.  See page 218.\n",
            "  - Dasarathy, B.V. (1980) \"Nosing Around the Neighborhood: A New System\n",
            "    Structure and Classification Rule for Recognition in Partially Exposed\n",
            "    Environments\".  IEEE Transactions on Pattern Analysis and Machine\n",
            "    Intelligence, Vol. PAMI-2, No. 1, 67-71.\n",
            "  - Gates, G.W. (1972) \"The Reduced Nearest Neighbor Rule\".  IEEE Transactions\n",
            "    on Information Theory, May 1972, 431-433.\n",
            "  - See also: 1988 MLC Proceedings, 54-64.  Cheeseman et al\"s AUTOCLASS II\n",
            "    conceptual clustering system finds 3 classes in the data.\n",
            "  - Many, many more ...\n",
            "\n"
          ]
        }
      ]
    },
    {
      "cell_type": "code",
      "source": [
        "print(iris.data.shape[0])\n",
        "print(df.isnull())\n",
        "print(df.isna())"
      ],
      "metadata": {
        "colab": {
          "base_uri": "https://localhost:8080/"
        },
        "id": "TlDNQJDa_2IX",
        "outputId": "c453ff93-1438-4562-9c12-ba29c4060003"
      },
      "execution_count": null,
      "outputs": [
        {
          "output_type": "stream",
          "name": "stdout",
          "text": [
            "150\n",
            "          7      0    0.1    0.2    0.3    0.4    0.5    0.6    0.7    0.8  \\\n",
            "0     False  False  False  False  False  False  False  False  False  False   \n",
            "1     False  False  False  False  False  False  False  False  False  False   \n",
            "2     False  False  False  False  False  False  False  False  False  False   \n",
            "3     False  False  False  False  False  False  False  False  False  False   \n",
            "4     False  False  False  False  False  False  False  False  False  False   \n",
            "...     ...    ...    ...    ...    ...    ...    ...    ...    ...    ...   \n",
            "9994  False  False  False  False  False  False  False  False  False  False   \n",
            "9995  False  False  False  False  False  False  False  False  False  False   \n",
            "9996  False  False  False  False  False  False  False  False  False  False   \n",
            "9997  False  False  False  False  False  False  False  False  False  False   \n",
            "9998  False  False  False  False  False  False  False  False  False  False   \n",
            "\n",
            "      ...  0.658  0.659  0.660  0.661  0.662  0.663  0.664  0.665  0.666  \\\n",
            "0     ...  False  False  False  False  False  False  False  False  False   \n",
            "1     ...  False  False  False  False  False  False  False  False  False   \n",
            "2     ...  False  False  False  False  False  False  False  False  False   \n",
            "3     ...  False  False  False  False  False  False  False  False  False   \n",
            "4     ...  False  False  False  False  False  False  False  False  False   \n",
            "...   ...    ...    ...    ...    ...    ...    ...    ...    ...    ...   \n",
            "9994  ...  False  False  False  False  False  False  False  False  False   \n",
            "9995  ...  False  False  False  False  False  False  False  False  False   \n",
            "9996  ...  False  False  False  False  False  False  False  False  False   \n",
            "9997  ...  False  False  False  False  False  False  False  False  False   \n",
            "9998  ...  False  False  False  False  False  False  False  False  False   \n",
            "\n",
            "      0.667  \n",
            "0     False  \n",
            "1     False  \n",
            "2     False  \n",
            "3     False  \n",
            "4     False  \n",
            "...     ...  \n",
            "9994  False  \n",
            "9995  False  \n",
            "9996  False  \n",
            "9997  False  \n",
            "9998  False  \n",
            "\n",
            "[9999 rows x 785 columns]\n",
            "          7      0    0.1    0.2    0.3    0.4    0.5    0.6    0.7    0.8  \\\n",
            "0     False  False  False  False  False  False  False  False  False  False   \n",
            "1     False  False  False  False  False  False  False  False  False  False   \n",
            "2     False  False  False  False  False  False  False  False  False  False   \n",
            "3     False  False  False  False  False  False  False  False  False  False   \n",
            "4     False  False  False  False  False  False  False  False  False  False   \n",
            "...     ...    ...    ...    ...    ...    ...    ...    ...    ...    ...   \n",
            "9994  False  False  False  False  False  False  False  False  False  False   \n",
            "9995  False  False  False  False  False  False  False  False  False  False   \n",
            "9996  False  False  False  False  False  False  False  False  False  False   \n",
            "9997  False  False  False  False  False  False  False  False  False  False   \n",
            "9998  False  False  False  False  False  False  False  False  False  False   \n",
            "\n",
            "      ...  0.658  0.659  0.660  0.661  0.662  0.663  0.664  0.665  0.666  \\\n",
            "0     ...  False  False  False  False  False  False  False  False  False   \n",
            "1     ...  False  False  False  False  False  False  False  False  False   \n",
            "2     ...  False  False  False  False  False  False  False  False  False   \n",
            "3     ...  False  False  False  False  False  False  False  False  False   \n",
            "4     ...  False  False  False  False  False  False  False  False  False   \n",
            "...   ...    ...    ...    ...    ...    ...    ...    ...    ...    ...   \n",
            "9994  ...  False  False  False  False  False  False  False  False  False   \n",
            "9995  ...  False  False  False  False  False  False  False  False  False   \n",
            "9996  ...  False  False  False  False  False  False  False  False  False   \n",
            "9997  ...  False  False  False  False  False  False  False  False  False   \n",
            "9998  ...  False  False  False  False  False  False  False  False  False   \n",
            "\n",
            "      0.667  \n",
            "0     False  \n",
            "1     False  \n",
            "2     False  \n",
            "3     False  \n",
            "4     False  \n",
            "...     ...  \n",
            "9994  False  \n",
            "9995  False  \n",
            "9996  False  \n",
            "9997  False  \n",
            "9998  False  \n",
            "\n",
            "[9999 rows x 785 columns]\n"
          ]
        }
      ]
    },
    {
      "cell_type": "code",
      "source": [
        "import numpy as np\n",
        "#n=np.array([1,-2,-54,3,-53,12,-32,90,-87])\n",
        "n1=np.arange(9).reshape(3,3)\n",
        "normalized_matrix=(n1-np.mean(n1))/np.std(n1)\n",
        "print(normalized_matrix)"
      ],
      "metadata": {
        "id": "o6gwTF7OCbu-",
        "colab": {
          "base_uri": "https://localhost:8080/"
        },
        "outputId": "3680281f-fc01-4be1-b073-19cb52a86ad8"
      },
      "execution_count": null,
      "outputs": [
        {
          "output_type": "stream",
          "name": "stdout",
          "text": [
            "[[-1.54919334 -1.161895   -0.77459667]\n",
            " [-0.38729833  0.          0.38729833]\n",
            " [ 0.77459667  1.161895    1.54919334]]\n"
          ]
        }
      ]
    },
    {
      "cell_type": "code",
      "source": [
        "n1[::-1]"
      ],
      "metadata": {
        "colab": {
          "base_uri": "https://localhost:8080/"
        },
        "id": "jPEBbu36larh",
        "outputId": "66dc9914-2276-421f-b15a-611331304226"
      },
      "execution_count": null,
      "outputs": [
        {
          "output_type": "execute_result",
          "data": {
            "text/plain": [
              "array([[6, 7, 8],\n",
              "       [3, 4, 5],\n",
              "       [0, 1, 2]])"
            ]
          },
          "metadata": {},
          "execution_count": 8
        }
      ]
    },
    {
      "cell_type": "code",
      "source": [
        "n=np.arange(12).reshape(4,3)\n",
        "print(np.vstack((n,n1)))"
      ],
      "metadata": {
        "colab": {
          "base_uri": "https://localhost:8080/"
        },
        "id": "foszjy0Fl4QA",
        "outputId": "96693066-55a6-4809-96cd-cc743be00aa8"
      },
      "execution_count": null,
      "outputs": [
        {
          "output_type": "stream",
          "name": "stdout",
          "text": [
            "[[ 0  1  2]\n",
            " [ 3  4  5]\n",
            " [ 6  7  8]\n",
            " [ 9 10 11]\n",
            " [ 0  1  2]\n",
            " [ 3  4  5]\n",
            " [ 6  7  8]]\n"
          ]
        }
      ]
    },
    {
      "cell_type": "code",
      "source": [
        "print(np.intersect1d(n,n1))"
      ],
      "metadata": {
        "colab": {
          "base_uri": "https://localhost:8080/"
        },
        "id": "cIlduspmnPIO",
        "outputId": "e3f2b1d7-80fc-4cd6-f7b2-e5049b5c6755"
      },
      "execution_count": null,
      "outputs": [
        {
          "output_type": "stream",
          "name": "stdout",
          "text": [
            "[0 1 2 3 4 5 6 7 8]\n"
          ]
        }
      ]
    },
    {
      "cell_type": "code",
      "source": [
        "n2=np.random.randint(0,3,10)\n",
        "print(n2)"
      ],
      "metadata": {
        "colab": {
          "base_uri": "https://localhost:8080/"
        },
        "id": "-JQkcl9lncbe",
        "outputId": "526755f7-c879-486e-be1e-bce3f19513dc"
      },
      "execution_count": null,
      "outputs": [
        {
          "output_type": "stream",
          "name": "stdout",
          "text": [
            "[2 2 1 0 0 1 2 2 0 1]\n"
          ]
        }
      ]
    },
    {
      "cell_type": "code",
      "source": [
        "print(n)"
      ],
      "metadata": {
        "colab": {
          "base_uri": "https://localhost:8080/"
        },
        "id": "oINQu0p5qGoc",
        "outputId": "9d1bc6a1-799e-48bd-8207-39ae5a0b3b9b"
      },
      "execution_count": null,
      "outputs": [
        {
          "output_type": "stream",
          "name": "stdout",
          "text": [
            "[[ 0  1  2]\n",
            " [ 3  4  5]\n",
            " [ 6  7  8]\n",
            " [ 9 10 11]]\n"
          ]
        }
      ]
    },
    {
      "cell_type": "code",
      "source": [
        "n3=np.mean(n,axis=1)\n",
        "print(n3)"
      ],
      "metadata": {
        "colab": {
          "base_uri": "https://localhost:8080/"
        },
        "id": "ApQTSRdEoBX3",
        "outputId": "aa1aa610-4b7a-4314-c228-6963f16ab825"
      },
      "execution_count": null,
      "outputs": [
        {
          "output_type": "stream",
          "name": "stdout",
          "text": [
            "[ 1.  4.  7. 10.]\n"
          ]
        }
      ]
    },
    {
      "cell_type": "code",
      "source": [
        "n4=np.arange(33)\n",
        "n4[:]=np.mean(n4)\n",
        "print(n4)"
      ],
      "metadata": {
        "colab": {
          "base_uri": "https://localhost:8080/"
        },
        "id": "4_BoA4aDqaWc",
        "outputId": "747d0512-c3e1-455f-da0e-1191b6d37e5c"
      },
      "execution_count": null,
      "outputs": [
        {
          "output_type": "stream",
          "name": "stdout",
          "text": [
            "[16 16 16 16 16 16 16 16 16 16 16 16 16 16 16 16 16 16 16 16 16 16 16 16\n",
            " 16 16 16 16 16 16 16 16 16]\n"
          ]
        }
      ]
    },
    {
      "cell_type": "code",
      "source": [
        "import pandas as pd\n",
        "from sklearn.datasets import load_iris\n",
        "\n",
        "iris=load_iris()\n",
        "df=pd.DataFrame(iris.data,columns=iris.feature_names)\n",
        "df['Id'] = range(1, len(df) + 1)\n",
        "print(df.head())\n",
        "df = df.drop('Id', axis=1)\n",
        "print(df.head())"
      ],
      "metadata": {
        "id": "Q0gnEp-vruCz",
        "outputId": "2c81f94d-e850-4f68-cee5-4c2e15c7e354",
        "colab": {
          "base_uri": "https://localhost:8080/"
        }
      },
      "execution_count": null,
      "outputs": [
        {
          "output_type": "stream",
          "name": "stdout",
          "text": [
            "   sepal length (cm)  sepal width (cm)  petal length (cm)  petal width (cm)  \\\n",
            "0                5.1               3.5                1.4               0.2   \n",
            "1                4.9               3.0                1.4               0.2   \n",
            "2                4.7               3.2                1.3               0.2   \n",
            "3                4.6               3.1                1.5               0.2   \n",
            "4                5.0               3.6                1.4               0.2   \n",
            "\n",
            "   Id  \n",
            "0   1  \n",
            "1   2  \n",
            "2   3  \n",
            "3   4  \n",
            "4   5  \n",
            "   sepal length (cm)  sepal width (cm)  petal length (cm)  petal width (cm)\n",
            "0                5.1               3.5                1.4               0.2\n",
            "1                4.9               3.0                1.4               0.2\n",
            "2                4.7               3.2                1.3               0.2\n",
            "3                4.6               3.1                1.5               0.2\n",
            "4                5.0               3.6                1.4               0.2\n"
          ]
        }
      ]
    },
    {
      "cell_type": "markdown",
      "source": [
        "WEEK-2 PRACTICE\n"
      ],
      "metadata": {
        "id": "mD9OddntbbAP"
      }
    },
    {
      "cell_type": "code",
      "source": [
        "import sklearn as sk\n",
        "import pandas as pd\n",
        "from sklearn.datasets import load_iris\n",
        "\n",
        "iris=load_iris()\n",
        "df=pd.DataFrame(iris.data)\n",
        "print(df)\n",
        "print(df.shape)\n",
        "print(type(df))\n",
        "print(df.dtypes)\n",
        "print(df.head(3))"
      ],
      "metadata": {
        "colab": {
          "base_uri": "https://localhost:8080/"
        },
        "id": "SNSQQ5CXbg8p",
        "outputId": "0e1e25af-9a90-4694-cdb7-53e56668aaa7"
      },
      "execution_count": null,
      "outputs": [
        {
          "output_type": "stream",
          "name": "stdout",
          "text": [
            "       0    1    2    3\n",
            "0    5.1  3.5  1.4  0.2\n",
            "1    4.9  3.0  1.4  0.2\n",
            "2    4.7  3.2  1.3  0.2\n",
            "3    4.6  3.1  1.5  0.2\n",
            "4    5.0  3.6  1.4  0.2\n",
            "..   ...  ...  ...  ...\n",
            "145  6.7  3.0  5.2  2.3\n",
            "146  6.3  2.5  5.0  1.9\n",
            "147  6.5  3.0  5.2  2.0\n",
            "148  6.2  3.4  5.4  2.3\n",
            "149  5.9  3.0  5.1  1.8\n",
            "\n",
            "[150 rows x 4 columns]\n",
            "(150, 4)\n",
            "<class 'pandas.core.frame.DataFrame'>\n",
            "0    float64\n",
            "1    float64\n",
            "2    float64\n",
            "3    float64\n",
            "dtype: object\n",
            "     0    1    2    3\n",
            "0  5.1  3.5  1.4  0.2\n",
            "1  4.9  3.0  1.4  0.2\n",
            "2  4.7  3.2  1.3  0.2\n"
          ]
        }
      ]
    },
    {
      "cell_type": "code",
      "source": [
        "import sklearn as sk\n",
        "import pandas as pd\n",
        "from sklearn.datasets import load_iris\n",
        "\n",
        "iris=load_iris()\n",
        "df=pd.DataFrame(iris.data)\n",
        "print(df)\n",
        "missing_values = df.isnull().sum()\n",
        "display(missing_values)"
      ],
      "metadata": {
        "colab": {
          "base_uri": "https://localhost:8080/",
          "height": 452
        },
        "id": "XzTE2-Vgbia-",
        "outputId": "22e66f9d-a6fc-4265-f81b-a32b4e2f4a62"
      },
      "execution_count": null,
      "outputs": [
        {
          "output_type": "stream",
          "name": "stdout",
          "text": [
            "       0    1    2    3\n",
            "0    5.1  3.5  1.4  0.2\n",
            "1    4.9  3.0  1.4  0.2\n",
            "2    4.7  3.2  1.3  0.2\n",
            "3    4.6  3.1  1.5  0.2\n",
            "4    5.0  3.6  1.4  0.2\n",
            "..   ...  ...  ...  ...\n",
            "145  6.7  3.0  5.2  2.3\n",
            "146  6.3  2.5  5.0  1.9\n",
            "147  6.5  3.0  5.2  2.0\n",
            "148  6.2  3.4  5.4  2.3\n",
            "149  5.9  3.0  5.1  1.8\n",
            "\n",
            "[150 rows x 4 columns]\n"
          ]
        },
        {
          "output_type": "display_data",
          "data": {
            "text/plain": [
              "0    0\n",
              "1    0\n",
              "2    0\n",
              "3    0\n",
              "dtype: int64"
            ],
            "text/html": [
              "<div>\n",
              "<style scoped>\n",
              "    .dataframe tbody tr th:only-of-type {\n",
              "        vertical-align: middle;\n",
              "    }\n",
              "\n",
              "    .dataframe tbody tr th {\n",
              "        vertical-align: top;\n",
              "    }\n",
              "\n",
              "    .dataframe thead th {\n",
              "        text-align: right;\n",
              "    }\n",
              "</style>\n",
              "<table border=\"1\" class=\"dataframe\">\n",
              "  <thead>\n",
              "    <tr style=\"text-align: right;\">\n",
              "      <th></th>\n",
              "      <th>0</th>\n",
              "    </tr>\n",
              "  </thead>\n",
              "  <tbody>\n",
              "    <tr>\n",
              "      <th>0</th>\n",
              "      <td>0</td>\n",
              "    </tr>\n",
              "    <tr>\n",
              "      <th>1</th>\n",
              "      <td>0</td>\n",
              "    </tr>\n",
              "    <tr>\n",
              "      <th>2</th>\n",
              "      <td>0</td>\n",
              "    </tr>\n",
              "    <tr>\n",
              "      <th>3</th>\n",
              "      <td>0</td>\n",
              "    </tr>\n",
              "  </tbody>\n",
              "</table>\n",
              "</div><br><label><b>dtype:</b> int64</label>"
            ]
          },
          "metadata": {}
        }
      ]
    },
    {
      "cell_type": "code",
      "source": [
        "import sklearn\n",
        "import numpy as np\n",
        "from sklearn import datasets\n",
        "iris = datasets.load_iris()\n",
        "print(iris.keys())\n",
        "print(iris.data.shape)\n",
        "print(iris.feature_names)\n",
        "print(iris.DESCR)\n",
        "print(\"no.of observations: \", iris.data.shape[0])\n",
        "missingvals = np.isnan(iris.data).sum()\n",
        "print(\"no.of missing values: \", missingvals)"
      ],
      "metadata": {
        "colab": {
          "base_uri": "https://localhost:8080/"
        },
        "id": "C5Huq0gnblwQ",
        "outputId": "19d38938-3a52-4e7b-8bd4-9c3e87c7f7ec"
      },
      "execution_count": null,
      "outputs": [
        {
          "output_type": "stream",
          "name": "stdout",
          "text": [
            "dict_keys(['data', 'target', 'frame', 'target_names', 'DESCR', 'feature_names', 'filename', 'data_module'])\n",
            "(150, 4)\n",
            "['sepal length (cm)', 'sepal width (cm)', 'petal length (cm)', 'petal width (cm)']\n",
            ".. _iris_dataset:\n",
            "\n",
            "Iris plants dataset\n",
            "--------------------\n",
            "\n",
            "**Data Set Characteristics:**\n",
            "\n",
            ":Number of Instances: 150 (50 in each of three classes)\n",
            ":Number of Attributes: 4 numeric, predictive attributes and the class\n",
            ":Attribute Information:\n",
            "    - sepal length in cm\n",
            "    - sepal width in cm\n",
            "    - petal length in cm\n",
            "    - petal width in cm\n",
            "    - class:\n",
            "            - Iris-Setosa\n",
            "            - Iris-Versicolour\n",
            "            - Iris-Virginica\n",
            "\n",
            ":Summary Statistics:\n",
            "\n",
            "============== ==== ==== ======= ===== ====================\n",
            "                Min  Max   Mean    SD   Class Correlation\n",
            "============== ==== ==== ======= ===== ====================\n",
            "sepal length:   4.3  7.9   5.84   0.83    0.7826\n",
            "sepal width:    2.0  4.4   3.05   0.43   -0.4194\n",
            "petal length:   1.0  6.9   3.76   1.76    0.9490  (high!)\n",
            "petal width:    0.1  2.5   1.20   0.76    0.9565  (high!)\n",
            "============== ==== ==== ======= ===== ====================\n",
            "\n",
            ":Missing Attribute Values: None\n",
            ":Class Distribution: 33.3% for each of 3 classes.\n",
            ":Creator: R.A. Fisher\n",
            ":Donor: Michael Marshall (MARSHALL%PLU@io.arc.nasa.gov)\n",
            ":Date: July, 1988\n",
            "\n",
            "The famous Iris database, first used by Sir R.A. Fisher. The dataset is taken\n",
            "from Fisher's paper. Note that it's the same as in R, but not as in the UCI\n",
            "Machine Learning Repository, which has two wrong data points.\n",
            "\n",
            "This is perhaps the best known database to be found in the\n",
            "pattern recognition literature.  Fisher's paper is a classic in the field and\n",
            "is referenced frequently to this day.  (See Duda & Hart, for example.)  The\n",
            "data set contains 3 classes of 50 instances each, where each class refers to a\n",
            "type of iris plant.  One class is linearly separable from the other 2; the\n",
            "latter are NOT linearly separable from each other.\n",
            "\n",
            ".. dropdown:: References\n",
            "\n",
            "  - Fisher, R.A. \"The use of multiple measurements in taxonomic problems\"\n",
            "    Annual Eugenics, 7, Part II, 179-188 (1936); also in \"Contributions to\n",
            "    Mathematical Statistics\" (John Wiley, NY, 1950).\n",
            "  - Duda, R.O., & Hart, P.E. (1973) Pattern Classification and Scene Analysis.\n",
            "    (Q327.D83) John Wiley & Sons.  ISBN 0-471-22361-1.  See page 218.\n",
            "  - Dasarathy, B.V. (1980) \"Nosing Around the Neighborhood: A New System\n",
            "    Structure and Classification Rule for Recognition in Partially Exposed\n",
            "    Environments\".  IEEE Transactions on Pattern Analysis and Machine\n",
            "    Intelligence, Vol. PAMI-2, No. 1, 67-71.\n",
            "  - Gates, G.W. (1972) \"The Reduced Nearest Neighbor Rule\".  IEEE Transactions\n",
            "    on Information Theory, May 1972, 431-433.\n",
            "  - See also: 1988 MLC Proceedings, 54-64.  Cheeseman et al\"s AUTOCLASS II\n",
            "    conceptual clustering system finds 3 classes in the data.\n",
            "  - Many, many more ...\n",
            "\n",
            "no.of observations:  150\n",
            "no.of missing values:  0\n"
          ]
        }
      ]
    },
    {
      "cell_type": "markdown",
      "source": [
        "FEATURE SELECTION"
      ],
      "metadata": {
        "id": "MkpPeA88han5"
      }
    },
    {
      "cell_type": "markdown",
      "source": [
        "CONSTANT FEATURES"
      ],
      "metadata": {
        "id": "OSsHJR1ciAcq"
      }
    },
    {
      "cell_type": "code",
      "source": [
        "import pandas as pd\n",
        "import numpy as np\n",
        "from sklearn.model_selection import train_test_split\n",
        "\n",
        "# Load the dataset\n",
        "df = pd.read_csv('/uci-secom.csv')\n",
        "\n",
        "# The last column is the target variable, and the first is a timestamp.\n",
        "# Let's drop the timestamp and separate features and target.\n",
        "X = df.drop(df.columns[[0, -1]], axis=1)\n",
        "y = df[df.columns[-1]]\n",
        "\n",
        "# Handle missing values by filling with the mean\n",
        "X = X.fillna(X.mean())\n",
        "\n",
        "# Split data into training and testing sets\n",
        "X_train, X_test, y_train, y_test = train_test_split(\n",
        "    X, y, test_size=0.3, random_state=0\n",
        ")\n",
        "\n",
        "# Find constant features\n",
        "constant_features = [\n",
        "    col for col in X_train.columns\n",
        "    if X_train[col].std() == 0\n",
        "]\n",
        "\n",
        "print(f\"Original number of features: {X_train.shape[1]}\")\n",
        "print(f\"Number of constant features: {len(constant_features)}\")\n",
        "\n",
        "# Drop constant features\n",
        "X_train.drop(labels=constant_features, axis=1, inplace=True)\n",
        "X_test.drop(labels=constant_features, axis=1, inplace=True)\n",
        "\n",
        "print(f\"Number of features after removing constant ones: {X_train.shape[1]}\")"
      ],
      "metadata": {
        "colab": {
          "base_uri": "https://localhost:8080/"
        },
        "id": "gGf9Q66dhgJd",
        "outputId": "1bfd5049-4ea6-4707-9a57-2ad33003181d"
      },
      "execution_count": null,
      "outputs": [
        {
          "output_type": "stream",
          "name": "stdout",
          "text": [
            "Original number of features: 590\n",
            "Number of constant features: 116\n",
            "Number of features after removing constant ones: 474\n"
          ]
        }
      ]
    },
    {
      "cell_type": "markdown",
      "source": [
        "Quasi-Constant Features"
      ],
      "metadata": {
        "id": "jBaaAls4mLd8"
      }
    },
    {
      "cell_type": "code",
      "source": [
        "import pandas as pd\n",
        "import numpy as np\n",
        "from sklearn.model_selection import train_test_split\n",
        "from sklearn.feature_selection import VarianceThreshold\n",
        "\n",
        "# Load the dataset\n",
        "df = pd.read_csv('/uci-secom.csv')\n",
        "\n",
        "# The last column is the target variable, and the first is a timestamp.\n",
        "# Let's drop the timestamp and separate features and target.\n",
        "X = df.drop(df.columns[[0, -1]], axis=1)\n",
        "y = df[df.columns[-1]]\n",
        "\n",
        "# Handle missing values by filling with the mean\n",
        "X = X.fillna(X.mean())\n",
        "\n",
        "# Split data into training and testing sets\n",
        "X_train, X_test, y_train, y_test = train_test_split(\n",
        "    X, y, test_size=0.3, random_state=0\n",
        ")\n",
        "\n",
        "# Find quasi-constant features\n",
        "quasi_constant_feat = []\n",
        "for feature in X_train.columns:\n",
        "    predominant = (X_train[feature].value_counts() / float(len(X_train))).sort_values(ascending=False).values[0]\n",
        "    if predominant >= 0.98:\n",
        "        quasi_constant_feat.append(feature)\n",
        "\n",
        "print(f\"Original number of features: {X_train.shape[1]}\")\n",
        "print(f\"Number of quasi-constant features: {len(quasi_constant_feat)}\")\n",
        "\n",
        "# Drop quasi-constant features\n",
        "X_train.drop(labels=quasi_constant_feat, axis=1, inplace=True)\n",
        "X_test.drop(labels=quasi_constant_feat, axis=1, inplace=True)\n",
        "\n",
        "print(f\"Number of features after removing quasi-constant ones: {X_train.shape[1]}\")"
      ],
      "metadata": {
        "id": "cHl4tzOUmLJM",
        "outputId": "69d4b451-7249-4ab1-a31c-ecbe199058ab",
        "colab": {
          "base_uri": "https://localhost:8080/"
        }
      },
      "execution_count": null,
      "outputs": [
        {
          "output_type": "stream",
          "name": "stdout",
          "text": [
            "Original number of features: 590\n",
            "Number of quasi-constant features: 126\n",
            "Number of features after removing quasi-constant ones: 464\n"
          ]
        }
      ]
    },
    {
      "cell_type": "markdown",
      "source": [
        "Duplicate Features"
      ],
      "metadata": {
        "id": "dEKNhmjFmaFk"
      }
    },
    {
      "cell_type": "code",
      "source": [
        "import pandas as pd\n",
        "import numpy as np\n",
        "from sklearn.model_selection import train_test_split\n",
        "\n",
        "# Load the dataset\n",
        "df = pd.read_csv('/uci-secom.csv')\n",
        "\n",
        "# The last column is the target variable, and the first is a timestamp.\n",
        "# Let's drop the timestamp and separate features and target.\n",
        "X = df.drop(df.columns[[0, -1]], axis=1)\n",
        "y = df[df.columns[-1]]\n",
        "\n",
        "# Handle missing values by filling with the mean\n",
        "X = X.fillna(X.mean())\n",
        "\n",
        "# Split data into training and testing sets\n",
        "X_train, X_test, y_train, y_test = train_test_split(\n",
        "    X, y, test_size=0.3, random_state=0\n",
        ")\n",
        "\n",
        "# Find duplicate features\n",
        "duplicated_features = set()\n",
        "for i in range(len(X_train.columns)):\n",
        "    col_1 = X_train.columns[i]\n",
        "    for j in range(i + 1, len(X_train.columns)):\n",
        "        col_2 = X_train.columns[j]\n",
        "        if X_train[col_1].equals(X_train[col_2]):\n",
        "            duplicated_features.add(col_2)\n",
        "\n",
        "print(f\"Original number of features: {X_train.shape[1]}\")\n",
        "print(f\"Number of duplicate features: {len(duplicated_features)}\")\n",
        "\n",
        "# Drop duplicate features\n",
        "X_train.drop(labels=duplicated_features, axis=1, inplace=True)\n",
        "X_test.drop(labels=duplicated_features, axis=1, inplace=True)\n",
        "\n",
        "print(f\"Number of features after removing duplicates: {X_train.shape[1]}\")"
      ],
      "metadata": {
        "id": "2-3C9e9GmUZ7",
        "outputId": "687c5280-fc7e-4731-df00-4d5af345c653",
        "colab": {
          "base_uri": "https://localhost:8080/"
        }
      },
      "execution_count": null,
      "outputs": [
        {
          "output_type": "stream",
          "name": "stdout",
          "text": [
            "Original number of features: 590\n",
            "Number of duplicate features: 112\n",
            "Number of features after removing duplicates: 478\n"
          ]
        }
      ]
    },
    {
      "cell_type": "markdown",
      "source": [
        "Correlated Features"
      ],
      "metadata": {
        "id": "-tn1fXWimjtv"
      }
    },
    {
      "cell_type": "code",
      "source": [
        "import pandas as pd\n",
        "import numpy as np\n",
        "from sklearn.model_selection import train_test_split\n",
        "\n",
        "# Load the dataset\n",
        "df = pd.read_csv('/uci-secom.csv')\n",
        "\n",
        "# The last column is the target variable, and the first is a timestamp.\n",
        "# Let's drop the timestamp and separate features and target.\n",
        "X = df.drop(df.columns[[0, -1]], axis=1)\n",
        "y = df[df.columns[-1]]\n",
        "\n",
        "# Handle missing values by filling with the mean\n",
        "X = X.fillna(X.mean())\n",
        "\n",
        "# Split data into training and testing sets\n",
        "X_train, X_test, y_train, y_test = train_test_split(\n",
        "    X, y, test_size=0.3, random_state=0\n",
        ")\n",
        "\n",
        "# Find correlated features\n",
        "def correlation(dataset, threshold):\n",
        "    col_corr = set()\n",
        "    corr_matrix = dataset.corr()\n",
        "    for i in range(len(corr_matrix.columns)):\n",
        "        for j in range(i):\n",
        "            if abs(corr_matrix.iloc[i, j]) > threshold:\n",
        "                colname = corr_matrix.columns[i]\n",
        "                col_corr.add(colname)\n",
        "    return col_corr\n",
        "\n",
        "corr_features = correlation(X_train, 0.9)\n",
        "\n",
        "print(f\"Original number of features: {X_train.shape[1]}\")\n",
        "print(f\"Number of correlated features to remove: {len(corr_features)}\")\n",
        "\n",
        "# Drop correlated features\n",
        "X_train.drop(labels=corr_features, axis=1, inplace=True)\n",
        "X_test.drop(labels=corr_features, axis=1, inplace=True)\n",
        "\n",
        "print(f\"Number of features after removing correlated ones: {X_train.shape[1]}\")"
      ],
      "metadata": {
        "id": "J7XQ3UvLmhqJ",
        "outputId": "14a25ebf-e97e-45f5-8a46-caabc6242962",
        "colab": {
          "base_uri": "https://localhost:8080/"
        }
      },
      "execution_count": null,
      "outputs": [
        {
          "output_type": "stream",
          "name": "stdout",
          "text": [
            "Original number of features: 590\n",
            "Number of correlated features to remove: 211\n",
            "Number of features after removing correlated ones: 379\n"
          ]
        }
      ]
    },
    {
      "cell_type": "markdown",
      "source": [
        "Mutual Information"
      ],
      "metadata": {
        "id": "CQwRs5oKmsW3"
      }
    },
    {
      "cell_type": "code",
      "source": [
        "import pandas as pd\n",
        "import numpy as np\n",
        "from sklearn.model_selection import train_test_split\n",
        "from sklearn.feature_selection import mutual_info_classif, SelectKBest\n",
        "import matplotlib.pyplot as plt\n",
        "\n",
        "# Load the dataset\n",
        "df = pd.read_csv('/uci-secom.csv')\n",
        "\n",
        "# The last column is the target variable, and the first is a timestamp.\n",
        "# Let's drop the timestamp and separate features and target.\n",
        "X = df.drop(df.columns[[0, -1]], axis=1)\n",
        "y = df[df.columns[-1]]\n",
        "\n",
        "# Handle missing values by filling with the mean\n",
        "X = X.fillna(X.mean())\n",
        "\n",
        "# Split data into training and testing sets\n",
        "X_train, X_test, y_train, y_test = train_test_split(\n",
        "    X, y, test_size=0.3, random_state=0\n",
        ")\n",
        "\n",
        "# Calculate mutual information scores\n",
        "mi = mutual_info_classif(X_train, y_train)\n",
        "mi_series = pd.Series(mi)\n",
        "mi_series.index = X_train.columns\n",
        "mi_sorted = mi_series.sort_values(ascending=False)\n",
        "\n",
        "# Plot the MI scores for the top 30 features for better visualization\n",
        "plt.figure(figsize=(10, 5))\n",
        "mi_sorted.head(30).plot.bar()\n",
        "plt.title(\"Top 30 Features based on Mutual Information Scores\")\n",
        "plt.ylabel(\"Mutual Information\")\n",
        "plt.xlabel(\"Features\")\n",
        "plt.tight_layout()\n",
        "plt.show()\n",
        "\n",
        "# Select the top 20 features\n",
        "selector = SelectKBest(score_func=mutual_info_classif, k=20)\n",
        "selector.fit(X_train, y_train)\n",
        "\n",
        "top_mi_features = X_train.columns[selector.get_support()]\n",
        "\n",
        "print(f\"Original number of features: {X_train.shape[1]}\")\n",
        "print(\"Top 20 features based on Mutual Information:\")\n",
        "print(top_mi_features)\n",
        "\n",
        "X_train_mi = X_train[top_mi_features]\n",
        "X_test_mi = X_test[top_mi_features]\n",
        "\n",
        "print(f\"\\nNumber of features after MI selection: {X_train_mi.shape[1]}\")"
      ],
      "metadata": {
        "id": "CFyLYzQAmtY3",
        "outputId": "bfce08f0-e8c1-44a0-8dd6-d72dbd11c797",
        "colab": {
          "base_uri": "https://localhost:8080/",
          "height": 620
        }
      },
      "execution_count": null,
      "outputs": [
        {
          "output_type": "display_data",
          "data": {
            "text/plain": [
              "<Figure size 1000x500 with 1 Axes>"
            ],
            "image/png": "[encoded data removed]"
          },
          "metadata": {}
        },
        {
          "output_type": "stream",
          "name": "stdout",
          "text": [
            "Original number of features: 590\n",
            "Top 20 features based on Mutual Information:\n",
            "Index(['41', '55', '64', '70', '119', '122', '126', '127', '130', '132', '175',\n",
            "       '273', '274', '308', '331', '477', '489', '502', '541', '562'],\n",
            "      dtype='object')\n",
            "\n",
            "Number of features after MI selection: 20\n"
          ]
        }
      ]
    },
    {
      "cell_type": "code",
      "source": [
        "from google.colab import drive\n",
        "drive.mount('/content/drive')"
      ],
      "metadata": {
        "colab": {
          "base_uri": "https://localhost:8080/"
        },
        "id": "pcFRiZ4x14fN",
        "outputId": "84504372-c542-4a98-c503-c045cd534da5"
      },
      "execution_count": 1,
      "outputs": [
        {
          "output_type": "stream",
          "name": "stdout",
          "text": [
            "Drive already mounted at /content/drive; to attempt to forcibly remount, call drive.mount(\"/content/drive\", force_remount=True).\n"
          ]
        }
      ]
    },
    {
      "cell_type": "markdown",
      "source": [
        "Chi-Square | Fischer Square"
      ],
      "metadata": {
        "id": "RPuq842U6QU2"
      }
    },
    {
      "cell_type": "code",
      "source": [
        "import pandas as pd\n",
        "import numpy as np\n",
        "from sklearn.feature_selection import chi2, f_classif\n",
        "from sklearn.preprocessing import LabelEncoder\n",
        "from sklearn.impute import SimpleImputer\n",
        "\n",
        "df=pd.read_csv(\"/content/titanic_train.csv\")\n",
        "\n",
        "y = df['Survived']\n",
        "\n",
        "categorical_cols = ['Pclass', 'Sex', 'Embarked']\n",
        "\n",
        "X_cat = df[categorical_cols].copy()\n",
        "for col in categorical_cols:\n",
        "  X_cat[col]=LabelEncoder().fit_transform(X_cat[col].astype(str))\n",
        "\n",
        "\n",
        "chi_scores, chi_pvalues=chi2(X_cat,y)\n",
        "chi_results=pd.DataFrame({\n",
        "    'feature': categorical_cols,\n",
        "    'chi2': chi_scores,\n",
        "    'p_value':chi_pvalues\n",
        "}).sort_values(by=\"chi2\",ascending=False)\n",
        "\n",
        "\n",
        "print(\"\\nChi-Square Test Results:\")\n",
        "print(chi_results)"
      ],
      "metadata": {
        "colab": {
          "base_uri": "https://localhost:8080/"
        },
        "id": "PnisWy-92JqV",
        "outputId": "ead8e6d5-6dc3-483c-817f-94dcb5b902f8"
      },
      "execution_count": 4,
      "outputs": [
        {
          "output_type": "stream",
          "name": "stdout",
          "text": [
            "\n",
            "Chi-Square Test Results:\n",
            "    feature       chi2       p_value\n",
            "1       Sex  92.702447  6.077838e-22\n",
            "0    Pclass  54.465866  1.581715e-13\n",
            "2  Embarked   9.755456  1.787913e-03\n"
          ]
        }
      ]
    },
    {
      "cell_type": "markdown",
      "source": [
        "Univariate feature selection (Or) ANOVA (Regression and Classification)"
      ],
      "metadata": {
        "id": "G2VDhMpo_rQF"
      }
    },
    {
      "cell_type": "code",
      "source": [
        "import pandas as pd\n",
        "import numpy as np\n",
        "from sklearn.feature_selection import chi2, f_classif\n",
        "from sklearn.preprocessing import LabelEncoder\n",
        "from sklearn.impute import SimpleImputer\n",
        "\n",
        "df=pd.read_csv(\"/content/titanic_train.csv\")\n",
        "\n",
        "y = df['Survived']\n",
        "\n",
        "categorical_cols = ['Pclass', 'Sex', 'Embarked']\n",
        "\n",
        "X_cat = df[categorical_cols].copy()\n",
        "for col in categorical_cols:\n",
        "  X_cat[col]=LabelEncoder().fit_transform(X_cat[col].astype(str))\n",
        "\n",
        "numeric_cols = ['Age', 'Fare', 'SibSp', 'Parch']\n",
        "\n",
        "X_num = df[numeric_cols].copy()\n",
        "X_num = SimpleImputer(strategy='mean').fit_transform(X_num)\n",
        "\n",
        "f_scores, f_pvalues = f_classif(X_num, y)\n",
        "anova_results = pd.DataFrame({\n",
        "    'feature': numeric_cols,\n",
        "    'F_value': f_scores,\n",
        "    'p_value': f_pvalues\n",
        "}).sort_values(by=\"F_value\", ascending=False)\n",
        "\n",
        "print(\"\\nANOVA Results:\")\n",
        "print(anova_results)"
      ],
      "metadata": {
        "colab": {
          "base_uri": "https://localhost:8080/"
        },
        "id": "EP6Uc0aK_vb9",
        "outputId": "0c6d6f60-1d80-488c-91e6-ba640ab5e558"
      },
      "execution_count": 5,
      "outputs": [
        {
          "output_type": "stream",
          "name": "stdout",
          "text": [
            "\n",
            "ANOVA Results:\n",
            "  feature    F_value       p_value\n",
            "1    Fare  63.030764  6.120189e-15\n",
            "3   Parch   5.963464  1.479925e-02\n",
            "0     Age   4.353516  3.721708e-02\n",
            "2   SibSp   1.110572  2.922439e-01\n"
          ]
        }
      ]
    },
    {
      "cell_type": "code",
      "source": [
        "import pandas as pd\n",
        "from sklearn.feature_selection import chi2\n",
        "from sklearn.preprocessing import LabelEncoder\n",
        "import numpy as np\n",
        "\n",
        "df = pd.read_csv(\"titanic_test.csv\")\n",
        "y = df['Pclass']\n",
        "categorical_cols = ['Sex', 'Embarked']\n",
        "X_cat = df[categorical_cols].copy()\n",
        "for col in categorical_cols:\n",
        "    X_cat[col] = LabelEncoder().fit_transform(X_cat[col].astype(str))\n",
        "chi_scores, p_values = chi2(X_cat, y)\n",
        "chi_results = pd.DataFrame({\n",
        "    'Feature': categorical_cols,\n",
        "    'Chi2': chi_scores,\n",
        "    'p-value': p_values\n",
        "})\n",
        "print(\"Chi-Square Results:\\n\", chi_results)\n"
      ],
      "metadata": {
        "colab": {
          "base_uri": "https://localhost:8080/"
        },
        "id": "umPf5C6YFtj7",
        "outputId": "bc805683-ec0a-4212-9858-e0000e15f71e"
      },
      "execution_count": 19,
      "outputs": [
        {
          "output_type": "stream",
          "name": "stdout",
          "text": [
            "Chi-Square Results:\n",
            "     Feature       Chi2   p-value\n",
            "0       Sex   2.434134  0.296097\n",
            "1  Embarked  23.968722  0.000006\n"
          ]
        }
      ]
    },
    {
      "cell_type": "code",
      "source": [
        "from sklearn.feature_selection import f_classif\n",
        "from sklearn.impute import SimpleImputer\n",
        "numeric_cols = ['Age', 'Fare', 'SibSp', 'Parch']\n",
        "X_num = df[numeric_cols].copy()\n",
        "X_num = SimpleImputer(strategy='mean').fit_transform(X_num)\n",
        "f_scores, p_values = f_classif(X_num, y)\n",
        "anova_results = pd.DataFrame({\n",
        "    'Feature': numeric_cols,\n",
        "    'F-Score': f_scores,\n",
        "    'p-value': p_values\n",
        "})\n",
        "print(\"\\nANOVA Results:\\n\", anova_results)"
      ],
      "metadata": {
        "id": "h7pz1xW4JI8I",
        "outputId": "f8c03ec3-583c-49fb-e24f-4a85f0ca7cee",
        "colab": {
          "base_uri": "https://localhost:8080/"
        }
      },
      "execution_count": 20,
      "outputs": [
        {
          "output_type": "stream",
          "name": "stdout",
          "text": [
            "\n",
            "ANOVA Results:\n",
            "   Feature     F-Score       p-value\n",
            "0     Age   56.123634  2.673037e-22\n",
            "1    Fare  129.979975  1.478408e-44\n",
            "2   SibSp    0.381950  6.827690e-01\n",
            "3   Parch    0.187583  8.290307e-01\n"
          ]
        }
      ]
    },
    {
      "cell_type": "code",
      "source": [],
      "metadata": {
        "id": "peKqBg1lJapm"
      },
      "execution_count": null,
      "outputs": []
    }
  ]
}